{
 "cells": [
  {
   "cell_type": "code",
   "execution_count": 10,
   "metadata": {
    "collapsed": true
   },
   "outputs": [],
   "source": [
    "import numpy as np\n",
    "import matplotlib.pyplot as plt\n",
    "from scipy.integrate import odeint"
   ]
  },
  {
   "cell_type": "code",
   "execution_count": 11,
   "metadata": {
    "collapsed": true
   },
   "outputs": [],
   "source": [
    "%matplotlib notebook"
   ]
  },
  {
   "cell_type": "code",
   "execution_count": 12,
   "metadata": {
    "collapsed": true
   },
   "outputs": [],
   "source": [
    "L = 1\n",
    "T = 10000\n",
    "dT = 2\n",
    "Nx = 500\n",
    "Ny = 500\n",
    "a = 0.0000001"
   ]
  },
  {
   "cell_type": "code",
   "execution_count": 22,
   "metadata": {},
   "outputs": [],
   "source": [
    "x = np.linspace(0, L, Nx+1) # mesh points in space\n",
    "y = np.linspace(0, L, Ny+1) \n",
    "dx = x[1] - x[0]\n",
    "dy = y[1] - y[0]\n",
    "t = np.arange(0, T, dT)    # mesh points in time\n",
    "Nt = len(t)\n",
    "Fx = a*dT/dx**2\n",
    "Fy = a*dT/dy**2\n",
    "u   = np.zeros((Nx+1, Ny+1)) # unknown u at new time level\n",
    "u_1   = np.zeros((Nx+1, Ny+1))\n",
    "dux = np.zeros(Nx+1)\n",
    "duy = np.zeros(Ny+1)\n",
    "du = np.zeros((Nx+1, Ny+1))\n",
    "du = np.zeros((Nx+1, Ny+1))\n",
    "\n",
    "# u_1[250, 100] = 1\n",
    "# u_1[150, 250] = 0.5\n",
    "# u_1[450, 300] = 1.5"
   ]
  },
  {
   "cell_type": "code",
   "execution_count": 23,
   "metadata": {},
   "outputs": [],
   "source": [
    "def odefunc(u, t):\n",
    "    dux = np.zeros((Nx+1, Ny+1))\n",
    "    duy = np.zeros((Nx+1, Ny+1))\n",
    "    du = np.zeros((Nx+1, Ny+1))\n",
    "\n",
    "    for n in range(0, Nt):\n",
    "     # Compute u at inner mesh points\n",
    "        for i in range(1, Nx):\n",
    "            for j in range(1, Ny):\n",
    "                dux[i, j] = Fx*(u_1[i-1, j] - 2*u_1[i, j] + u_1[i+1, j]) \n",
    "                dux[0, j]=Fx*(u_1[Nx, j] - 2*u_1[0, j] + u_1[1, j]) \n",
    "                dux[Nx, j]=Fx*(u_1[Nx-1, j] - 2*u_1[Nx, j] + u_1[0, j]) \n",
    "            \n",
    "                duy[i, j] = Fy*(u_1[i, j-1] - 2*u_1[i, j] + u_1[i, j+1])\n",
    "                duy[i, 0]=Fy*(u_1[i, Ny] - 2*u_1[i, 0] + u_1[i, 1])\n",
    "                duy[i, Ny]=Fy*(u_1[i, Ny-1] - 2*u_1[i, Ny] + u_1[i, 0])\n",
    "                \n",
    "                du = dux + duy\n",
    "            \n",
    "        for i in range(0, Nx+1):\n",
    "            for j in range(0, Ny+1):\n",
    "                u_1[i, j] = u_1[i,j] + du[i,j]\n",
    "\n",
    "\n",
    "    return du"
   ]
  },
  {
   "cell_type": "code",
   "execution_count": 24,
   "metadata": {},
   "outputs": [
    {
     "name": "stdout",
     "output_type": "stream",
     "text": [
      "[[ 0.  0.  0. ...,  0.  0.  0.]\n",
      " [ 0.  0.  0. ...,  0.  0.  0.]\n",
      " [ 0.  0.  0. ...,  0.  0.  0.]\n",
      " ..., \n",
      " [ 0.  0.  0. ...,  0.  0.  0.]\n",
      " [ 0.  0.  0. ...,  0.  0.  0.]\n",
      " [ 0.  0.  0. ...,  0.  0.  0.]]\n",
      "[[ 0.  0.  0. ...,  0.  0.  0.]\n",
      " [ 0.  0.  0. ...,  0.  0.  0.]\n",
      " [ 0.  0.  0. ...,  0.  0.  0.]\n",
      " ..., \n",
      " [ 0.  0.  0. ...,  0.  0.  0.]\n",
      " [ 0.  0.  0. ...,  0.  0.  0.]\n",
      " [ 0.  0.  0. ...,  0.  0.  0.]]\n"
     ]
    }
   ],
   "source": [
    "sol = odeint(odefunc,u_1,Nt)"
   ]
  },
  {
   "cell_type": "code",
   "execution_count": null,
   "metadata": {
    "collapsed": true
   },
   "outputs": [],
   "source": []
  }
 ],
 "metadata": {
  "kernelspec": {
   "display_name": "Python 3",
   "language": "python",
   "name": "python3"
  },
  "language_info": {
   "codemirror_mode": {
    "name": "ipython",
    "version": 3
   },
   "file_extension": ".py",
   "mimetype": "text/x-python",
   "name": "python",
   "nbconvert_exporter": "python",
   "pygments_lexer": "ipython3",
   "version": "3.6.3"
  }
 },
 "nbformat": 4,
 "nbformat_minor": 2
}
