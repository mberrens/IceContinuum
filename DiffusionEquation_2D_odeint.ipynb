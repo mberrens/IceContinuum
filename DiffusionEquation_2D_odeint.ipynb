{
 "cells": [
  {
   "cell_type": "code",
   "execution_count": 115,
   "metadata": {
    "collapsed": true
   },
   "outputs": [],
   "source": [
    "import numpy as np\n",
    "import matplotlib.pyplot as plt\n",
    "from scipy.integrate import odeint"
   ]
  },
  {
   "cell_type": "code",
   "execution_count": 116,
   "metadata": {
    "collapsed": true
   },
   "outputs": [],
   "source": [
    "%matplotlib notebook"
   ]
  },
  {
   "cell_type": "code",
   "execution_count": 120,
   "metadata": {},
   "outputs": [],
   "source": [
    "def odefunc(u, t, params):\n",
    "    \n",
    "    Nx,Ny = np.shape(u); #print(Nx,Ny)\n",
    "    dux = np.zeros((Nx, Ny))\n",
    "    duy = np.zeros((Nx, Ny))\n",
    "    du = np.zeros((Nx, Ny))\n",
    "    \n",
    "    Fx = params[0]\n",
    "    Fy = params[0]\n",
    "    \n",
    "   # Compute u at inner mesh points\n",
    "    for i in range(1, Nx-1):\n",
    "        for j in range(1, Ny-1):\n",
    "                dux[0, j]=(u[Nx-1, j] - 2*u[0, j] + u[1, j])*Fx\n",
    "                dux[i, j] = (u[i-1, j] - 2*u[i, j] + u[i+1, j])*Fx\n",
    "                dux[Nx-1, j]=(u[Nx-2, j] - 2*u[Nx-1, j] + u[0, j])*Fx\n",
    "            \n",
    "                duy[i, 0]=(u[i, Ny-1] - 2*u[i, 0] + u[i, 1])*Fy\n",
    "                duy[i, j] = (u[i, j-1] - 2*u[i, j] + u[i, j+1])*Fy\n",
    "                duy[i, Ny-1]=(u[i, Ny-2] - 2*u[i, Ny-1] + u[i, 0])*Fy\n",
    "                \n",
    "                du = dux + duy\n",
    "            \n",
    "    #for i in range(0, Nx):\n",
    "     #   for j in range(0, Ny):\n",
    "      #          u[i, j] = u[i,j] + du[i,j]\n",
    "\n",
    "\n",
    "    return du"
   ]
  },
  {
   "cell_type": "code",
   "execution_count": 123,
   "metadata": {},
   "outputs": [
    {
     "name": "stdout",
     "output_type": "stream",
     "text": [
      "(5, 5)\n",
      "(5, 5)\n",
      "[[ 0.  0.  0.  0.  0.]\n",
      " [ 0.  0.  0.  0.  0.]\n",
      " [ 0.  0.  1.  0.  0.]\n",
      " [ 0.  0.  0.  0.  0.]\n",
      " [ 0.  0.  0.  0.  0.]]\n",
      "[1.5999999999999999e-06, 1.5999999999999999e-06]\n"
     ]
    }
   ],
   "source": [
    "L = 1\n",
    "T = 10\n",
    "dT = 2\n",
    "\n",
    "# Nx = 500\n",
    "# Ny = 500\n",
    "\n",
    "Nx = 5\n",
    "Ny = 5\n",
    "x = np.linspace(0, L, Nx) # mesh points in space\n",
    "y = np.linspace(0, L, Ny) \n",
    "dx = x[1] - x[0]\n",
    "dy = y[1] - y[0]\n",
    "t = np.arange(0, T, dT) # mesh points in time\n",
    "a = 0.0000001\n",
    "\n",
    "Fx = a/dx**2\n",
    "Fy = a/dy**2\n",
    " \n",
    "# Initialize u\n",
    "u   = np.zeros((Nx, Ny))\n",
    "\n",
    "# Check up on the sizes\n",
    "print(np.shape(u))\n",
    "\n",
    "# Add initial bump at midx,midy spike and integrate up to T\n",
    "midx = int(Nx/2); \n",
    "midy = int(Ny/2); \n",
    "u[midx,midy] = 1\n",
    "\n",
    "print(np.shape(u))\n",
    "print(u)\n",
    "\n",
    "# Bundle parameters for ODE solver\n",
    "params = [Fx,Fy]; print (params)\n",
    "\n"
   ]
  },
  {
   "cell_type": "code",
   "execution_count": 124,
   "metadata": {},
   "outputs": [
    {
     "name": "stdout",
     "output_type": "stream",
     "text": [
      "[[  0.00000000e+00   0.00000000e+00   0.00000000e+00   0.00000000e+00\n",
      "    0.00000000e+00]\n",
      " [  0.00000000e+00   0.00000000e+00   1.60000000e-06   0.00000000e+00\n",
      "    0.00000000e+00]\n",
      " [  0.00000000e+00   1.60000000e-06  -6.40000000e-06   1.60000000e-06\n",
      "    0.00000000e+00]\n",
      " [  0.00000000e+00   0.00000000e+00   1.60000000e-06   0.00000000e+00\n",
      "    0.00000000e+00]\n",
      " [  0.00000000e+00   0.00000000e+00   0.00000000e+00   0.00000000e+00\n",
      "    0.00000000e+00]]\n",
      "(5, 5)\n"
     ]
    }
   ],
   "source": [
    "du = odefunc(u, t, params)\n",
    "print (du)\n",
    "\n",
    "print(np.shape(du))"
   ]
  },
  {
   "cell_type": "code",
   "execution_count": 106,
   "metadata": {},
   "outputs": [],
   "source": [
    "#sol = odeint(odefunc, u, t, args = (params,))"
   ]
  },
  {
   "cell_type": "code",
   "execution_count": null,
   "metadata": {
    "collapsed": true
   },
   "outputs": [],
   "source": []
  }
 ],
 "metadata": {
  "kernelspec": {
   "display_name": "Python 3",
   "language": "python",
   "name": "python3"
  },
  "language_info": {
   "codemirror_mode": {
    "name": "ipython",
    "version": 3
   },
   "file_extension": ".py",
   "mimetype": "text/x-python",
   "name": "python",
   "nbconvert_exporter": "python",
   "pygments_lexer": "ipython3",
   "version": "3.6.3"
  }
 },
 "nbformat": 4,
 "nbformat_minor": 2
}
