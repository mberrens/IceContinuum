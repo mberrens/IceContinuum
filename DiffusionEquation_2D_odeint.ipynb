{
 "cells": [
  {
   "cell_type": "code",
   "execution_count": 1,
   "metadata": {},
   "outputs": [],
   "source": [
    "import numpy as np\n",
    "import matplotlib.pyplot as plt\n",
    "from scipy.integrate import odeint"
   ]
  },
  {
   "cell_type": "code",
   "execution_count": 2,
   "metadata": {},
   "outputs": [],
   "source": [
    "%matplotlib notebook"
   ]
  },
  {
   "cell_type": "code",
   "execution_count": 15,
   "metadata": {},
   "outputs": [],
   "source": [
    "L = 1\n",
    "T = 10000\n",
    "dT = 2\n",
    "\n",
    "# Nx = 500\n",
    "# Ny = 500\n",
    "\n",
    "Nx = 5\n",
    "Ny = 5\n",
    "\n",
    "a = 0.0000001"
   ]
  },
  {
   "cell_type": "code",
   "execution_count": 52,
   "metadata": {},
   "outputs": [
    {
     "name": "stdout",
     "output_type": "stream",
     "text": [
      "(5, 5)\n",
      "[3.2e-06, 3.2e-06]\n"
     ]
    }
   ],
   "source": [
    "x = np.linspace(0, L, Nx) # mesh points in space\n",
    "y = np.linspace(0, L, Ny) \n",
    "dx = x[1] - x[0]\n",
    "dy = y[1] - y[0]\n",
    "t = np.arange(0, T, dT)    # mesh points in time\n",
    "Nt = len(t)\n",
    "Fx = a*dT/dx**2\n",
    "Fy = a*dT/dy**2\n",
    "u   = np.zeros((Nx, Ny)) # unknown u at new time level\n",
    "u_1 = np.zeros((Nx, Ny))\n",
    "dux = np.zeros(Nx)\n",
    "duy = np.zeros(Ny)\n",
    "du = np.zeros((Nx, Ny))\n",
    "du = np.zeros((Nx, Ny))\n",
    "\n",
    "# Check up on the sizes\n",
    "print(np.shape(u))\n",
    "\n",
    "# Initialize u\n",
    "midx = int(Nx/2)\n",
    "midy = int(Ny/2)\n",
    "u[midx,midy] = 1\n",
    "\n",
    "# Bundle parameters for ODE solver\n",
    "params = [Fx,Fy]; print (params)\n",
    "\n",
    "\n",
    "# u_1[250, 100] = 1\n",
    "# u_1[150, 250] = 0.5\n",
    "# u_1[450, 300] = 1.5"
   ]
  },
  {
   "cell_type": "code",
   "execution_count": 55,
   "metadata": {},
   "outputs": [],
   "source": [
    "def odefunc(u, t, params):\n",
    "    \n",
    "    Nx,Ny = np.shape(u); #print(Nx,Ny)\n",
    "    dux = np.zeros((Nx, Ny))\n",
    "    duy = np.zeros((Nx, Ny))\n",
    "    du = np.zeros((Nx, Ny))\n",
    "    \n",
    "    Fx = params[0]\n",
    "    Fy = params[0]\n",
    "\n",
    "    # Compute u at inner mesh points\n",
    "    for i in range(1, Nx-1):\n",
    "        for j in range(1, Ny-1):\n",
    "                dux[i, j] = Fx*(u[i-1, j] - 2*u[i, j] + u[i+1, j]) \n",
    "                #dux[0, j]=Fx*(u[Nx, j] - 2*u[0, j] + u[1, j]) \n",
    "                #dux[Nx, j]=Fx*(u[Nx-1, j] - 2*u[Nx, j] + u[0, j]) \n",
    "            \n",
    "                duy[i, j] = Fy*(u[i, j-1] - 2*u[i, j] + u[i, j+1])\n",
    "                #duy[i, 0]=Fy*(u[i, Ny] - 2*u[i, 0] + u[i, 1])\n",
    "                #duy[i, Ny]=Fy*(u[i, Ny-1] - 2*u[i, Ny] + u[i, 0])\n",
    "                \n",
    "                du = dux + duy\n",
    "            \n",
    "#         for i in range(0, Nx+1):\n",
    "#             for j in range(0, Ny+1):\n",
    "#                 u[i, j] = u[i,j] + du[i,j]\n",
    "\n",
    "\n",
    "    return du"
   ]
  },
  {
   "cell_type": "code",
   "execution_count": 56,
   "metadata": {},
   "outputs": [
    {
     "name": "stdout",
     "output_type": "stream",
     "text": [
      "[[ 0.00e+00  0.00e+00  0.00e+00  0.00e+00  0.00e+00]\n",
      " [ 0.00e+00  0.00e+00  3.20e-06  0.00e+00  0.00e+00]\n",
      " [ 0.00e+00  3.20e-06 -1.28e-05  3.20e-06  0.00e+00]\n",
      " [ 0.00e+00  0.00e+00  3.20e-06  0.00e+00  0.00e+00]\n",
      " [ 0.00e+00  0.00e+00  0.00e+00  0.00e+00  0.00e+00]]\n"
     ]
    }
   ],
   "source": [
    "du = odefunc(u, t, params)\n",
    "print (du)"
   ]
  },
  {
   "cell_type": "code",
   "execution_count": 7,
   "metadata": {},
   "outputs": [],
   "source": [
    "#sol = odeint(odefunc,u_1,Nt)"
   ]
  },
  {
   "cell_type": "code",
   "execution_count": null,
   "metadata": {},
   "outputs": [],
   "source": []
  }
 ],
 "metadata": {
  "kernelspec": {
   "display_name": "Python 3",
   "language": "python",
   "name": "python3"
  },
  "language_info": {
   "codemirror_mode": {
    "name": "ipython",
    "version": 3
   },
   "file_extension": ".py",
   "mimetype": "text/x-python",
   "name": "python",
   "nbconvert_exporter": "python",
   "pygments_lexer": "ipython3",
   "version": "3.6.5"
  }
 },
 "nbformat": 4,
 "nbformat_minor": 2
}
