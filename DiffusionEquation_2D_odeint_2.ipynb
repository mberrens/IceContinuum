{
 "cells": [
  {
   "cell_type": "code",
   "execution_count": 29,
   "metadata": {},
   "outputs": [],
   "source": [
    "import numpy as np\n",
    "import matplotlib.pyplot as plt\n",
    "from scipy.integrate import odeint\n",
    "from mpl_toolkits.mplot3d import axes3d\n",
    "import stlstuff as sls\n",
    "import copy \n",
    "import os\n",
    "import time\n",
    "#import f90nml"
   ]
  },
  {
   "cell_type": "code",
   "execution_count": 30,
   "metadata": {},
   "outputs": [],
   "source": [
    "%matplotlib notebook"
   ]
  },
  {
   "cell_type": "markdown",
   "metadata": {},
   "source": [
    "This code solves the partial differential equation  \n",
    "\n",
    "${\\partial h \\over \\partial t}=D ({\\partial^2 h \\over \\partial y^2}+{\\partial^2 h \\over \\partial x^2})+U(x,y,t) $\n",
    "\n",
    "where $U$ provides for sudden, initially localized growth at random locations on the facet surface."
   ]
  },
  {
   "cell_type": "markdown",
   "metadata": {},
   "source": [
    "These are two functions that flatten and deflatten functions. The first is to be able to flatten the function $U$ into 1-dimension and the second function is to unflatten $U$ back into 2-dimensions after odeint is run"
   ]
  },
  {
   "cell_type": "code",
   "execution_count": 31,
   "metadata": {},
   "outputs": [],
   "source": [
    "def flatten(u):\n",
    "    Nx, Ny = np.shape(u)\n",
    "    return np.reshape(u, Nx*Ny)\n",
    "def unflatten(uflat, Nx, Ny):\n",
    "    return np.reshape(uflat, (Ny, Nx))"
   ]
  },
  {
   "cell_type": "markdown",
   "metadata": {},
   "source": [
    "This function takes a flat function $U$, unflattens it, runs it through odefunc, and then flattens the result"
   ]
  },
  {
   "cell_type": "code",
   "execution_count": 32,
   "metadata": {},
   "outputs": [],
   "source": [
    "def odefuncflat(uflat, t, params):\n",
    "    Nx = params[2]\n",
    "    Ny = params[3]\n",
    "    u = unflatten(uflat, Nx, Ny)\n",
    "    \n",
    "    du=odefunc(u, t, params)\n",
    "    duflat = flatten(du)\n",
    "    return duflat "
   ]
  },
  {
   "cell_type": "markdown",
   "metadata": {},
   "source": [
    "This function takes an input of the 2-dimensional function $U$, and then computes the inner mesh points with periodic boundary conditions then computes the outermost mesh points for both x and y and then combines the results and returns $dU$\n",
    "\n",
    "So in a sense it creates the ${\\partial h \\over \\partial t}=D ({\\partial^2 h \\over \\partial y^2}+{\\partial^2 h \\over \\partial x^2})$"
   ]
  },
  {
   "cell_type": "code",
   "execution_count": 33,
   "metadata": {},
   "outputs": [],
   "source": [
    "def odefunc(u, t, params):\n",
    "    \n",
    "    Nx,Ny = np.shape(u)\n",
    "    dux = np.zeros((Nx, Ny))\n",
    "    duy = np.zeros((Nx, Ny))\n",
    "    du = np.zeros((Nx, Ny))\n",
    "    \n",
    "    Fx = params[0]\n",
    "    Fy = params[1]\n",
    "    \n",
    "  # Compute u at inner mesh points\n",
    "    for i in range(1, Nx-1):\n",
    "        for j in range(1, Ny-1):\n",
    "                #This takes care of the inner part of the 2D array but does not yet account for all periodic boundry condiitons\n",
    "                \n",
    "                dux[i, j] = (u[i-1, j] - 2*u[i, j] + u[i+1, j])*Fx\n",
    "                duy[i, j] = (u[i, j-1] - 2*u[i, j] + u[i, j+1])*Fy\n",
    "            \n",
    "                \n",
    "                \n",
    "  # Compute u for top and bottom in x mesh points\n",
    "    for j in range(1, Ny-1):\n",
    "        duy[0, j]=(u[0, j-1] - 2*u[0, j] + u[0, j+1])*Fy\n",
    "        duy[-1, j]=(u[-1, j-1] - 2*u[-1, j] + u[-1, j+1])*Fy\n",
    "        \n",
    "        dux[0, j]=(u[-1, j] - 2*u[0, j] + u[1, j])*Fx\n",
    "        dux[-1, j]=(u[-2, j] - 2*u[-1, j] + u[0, j])*Fx\n",
    "        \n",
    "    #compute u for left and right in y mesh points\n",
    "    for i in range(1, Nx-1):\n",
    "        dux[i, 0]=(u[i-1,0] - 2*u[i, 0] + u[i+1, 0])*Fx\n",
    "        dux[i, -1]=(u[i-1, -1] - 2*u[i, -1] + u[i+1, -1])*Fx\n",
    "        \n",
    "        duy[i, 0]=(u[i, -1] - 2*u[i, 0] + u[i, 1])*Fy\n",
    "        duy[i, -1]=(u[i, -2] - 2*u[i, -1] + u[i, 0])*Fy\n",
    "        \n",
    "    #compute the left top corner of grid\n",
    "    dux[0,0]=(u[-1,0] - 2*u[0, 0] + u[1, 0])*Fx\n",
    "    duy[0,0]=(u[0,-1] - 2*u[0, 0] + u[0, 1])*Fy\n",
    "    \n",
    "    #compute the left bottom corner of grid\n",
    "    dux[-1,0]=(u[-2,0] - 2*u[-1, 0] + u[0, 0])*Fx\n",
    "    duy[-1,0]=(u[-1,-1] - 2*u[-1, 0] + u[-1, 1])*Fy\n",
    "    \n",
    "    #compute the right top corner of grid\n",
    "    dux[0,-1]=(u[-1,-1] - 2*u[0, -1] + u[1, -1])*Fx\n",
    "    duy[0,-1]=(u[0,-2] - 2*u[0, -1] + u[0, 0])*Fy\n",
    "    \n",
    "    #compute the right bottom corner of grid\n",
    "    dux[-1,-1]=(u[-2,-1] - 2*u[-1, -1] + u[0, -1])*Fx\n",
    "    duy[-1,-1]=(u[-1,-2] - 2*u[-1, -1] + u[-1, 0])*Fy\n",
    "\n",
    "    #combine dux and duy values\n",
    "    du = dux + duy\n",
    "\n",
    "    return du"
   ]
  },
  {
   "cell_type": "code",
   "execution_count": 34,
   "metadata": {},
   "outputs": [],
   "source": [
    "def makebump(x0, y0, dx, dy, Lx, Ly, Sigma, volume, xgrid, ygrid):\n",
    "# x0 = 50\n",
    "# y0 = 50\n",
    "# Sigma = 5\n",
    "# volume = 1\n",
    "    bump = 1/(2*np.pi*Sigma**2)*np.exp(-((xgrid - x0)**2 + (ygrid - y0)**2)/(2*Sigma**2))*volume\n",
    "    xgrid1 = xgrid-(Lx+dx)\n",
    "    ygrid1 = ygrid-(Ly+dy)\n",
    "    bump += 1/(2*np.pi*Sigma**2)*np.exp(-((xgrid1 - x0)**2 + (ygrid1 - y0)**2)/(2*Sigma**2))*volume\n",
    "    \n",
    "    xgrid2 = xgrid-(Lx+dx)\n",
    "    bump += 1/(2*np.pi*Sigma**2)*np.exp(-((xgrid2 - x0)**2 + (ygrid - y0)**2)/(2*Sigma**2))*volume\n",
    "    \n",
    "    xgrid3 = xgrid-(Lx+dx)\n",
    "    ygrid3 = ygrid +(Ly+dy)\n",
    "    bump += 1/(2*np.pi*Sigma**2)*np.exp(-((xgrid3 - x0)**2 + (ygrid3 - y0)**2)/(2*Sigma**2))*volume\n",
    "    \n",
    "    ygrid4 = ygrid-(Ly+dy)\n",
    "    bump += 1/(2*np.pi*Sigma**2)*np.exp(-((xgrid - x0)**2 + (ygrid4 - y0)**2)/(2*Sigma**2))*volume\n",
    "    \n",
    "    ygrid6 = ygrid+(Ly+dy)\n",
    "    bump += 1/(2*np.pi*Sigma**2)*np.exp(-((xgrid - x0)**2 + (ygrid6 - y0)**2)/(2*Sigma**2))*volume\n",
    "    \n",
    "    xgrid7 = xgrid+(Lx+dx)\n",
    "    ygrid7 = ygrid-(Ly+dy)\n",
    "    bump += 1/(2*np.pi*Sigma**2)*np.exp(-((xgrid7 - x0)**2 + (ygrid7 - y0)**2)/(2*Sigma**2))*volume\n",
    "    \n",
    "    xgrid8 = xgrid+(Lx+dx)\n",
    "    bump += 1/(2*np.pi*Sigma**2)*np.exp(-((xgrid8 - x0)**2 + (ygrid - y0)**2)/(2*Sigma**2))*volume    \n",
    "    \n",
    "    xgrid9 = xgrid+(Lx+dx)\n",
    "    ygrid9 = ygrid+(Ly+dy)\n",
    "    bump += 1/(2*np.pi*Sigma**2)*np.exp(-((xgrid9 - x0)**2 + (ygrid9 - y0)**2)/(2*Sigma**2))*volume\n",
    "    \n",
    "    \n",
    "    return bump\n",
    "# x0 = 50\n",
    "# y0 = 100\n",
    "# Sigma = 5\n",
    "# volume = 1\n",
    "# bump = makebump(x0, y0, dx, dy, Lx, Ly, Sigma, volume, xgrid, ygrid)\n",
    "# ax = plt.figure().gca(projection='3d')\n",
    "# ax.plot_surface(xgrid, ygrid, bump)\n",
    "# ax.set_xlabel('x')\n",
    "# ax.set_ylabel('y')"
   ]
  },
  {
   "cell_type": "code",
   "execution_count": 35,
   "metadata": {},
   "outputs": [],
   "source": [
    "# Define the physical size of the box\n",
    "Lx = 100\n",
    "Ly = 100\n",
    "\n",
    "# Digital resolution of the box\n",
    "Nx = 101\n",
    "Ny = 100\n",
    "\n",
    "# x-y grid\n",
    "x = np.linspace(0, Lx, Nx) # mesh points in space\n",
    "y = np.linspace(0, Ly, Ny) \n",
    "dx = x[1] - x[0]\n",
    "dy = y[1] - y[0]\n",
    "\n",
    "# Diffusion coefficients\n",
    "a_old = 0.00002\n",
    "D_x = a_old*Lx**2\n",
    "D_y = a_old*Ly**2 \n",
    "\n",
    "# Diffusion coefficients scaled for integration\n",
    "Fx = D_x/dx**2\n",
    "Fy = D_y/dy**2\n",
    "\n",
    "# Bundle parameters for ODE solver\n",
    "params = [Fx,Fy, Nx, Ny]\n",
    " \n",
    "# Lay out the x-y grid\n",
    "xgrid, ygrid = np.meshgrid(x, y)"
   ]
  },
  {
   "cell_type": "code",
   "execution_count": 36,
   "metadata": {},
   "outputs": [
    {
     "name": "stdout",
     "output_type": "stream",
     "text": [
      "Time to doubling width =  120.0\n",
      "Number of bumps =  50\n",
      "Time between bumps = 3\n",
      "Time from start to finish = 150\n",
      "Width of first bump at end of simulation =  8.717797887081348\n"
     ]
    }
   ],
   "source": [
    "# Properties of the gaussian\n",
    "Sigma = 4\n",
    "volume = 100\n",
    "\n",
    "# Report something about T\n",
    "Sigmaprime = 2*Sigma\n",
    "Tdouble = (Sigmaprime**2 - Sigma**2)/(2*D_x)\n",
    "print(\"Time to doubling width = \", Tdouble)\n",
    "\n",
    "# Specify number of bumps we want\n",
    "Nbumps = 50\n",
    "print('Number of bumps = ', Nbumps)\n",
    "\n",
    "# Time between bumps\n",
    "T = 3\n",
    "t = np.linspace(0,T,2)\n",
    "\n",
    "# Other interesting info\n",
    "T0 = Sigma**2/(2*D_x)\n",
    "Sigmalast = np.sqrt(2*D_x*(T*Nbumps+T0))\n",
    "\n",
    "print('Time between bumps =', T)\n",
    "print('Time from start to finish =', T*Nbumps)\n",
    "print('Width of first bump at end of simulation = ', Sigmalast)"
   ]
  },
  {
   "cell_type": "code",
   "execution_count": null,
   "metadata": {},
   "outputs": [
    {
     "name": "stdout",
     "output_type": "stream",
     "text": [
      "0\n",
      "1\n"
     ]
    }
   ],
   "source": [
    "# Initialize u\n",
    "u = np.zeros((Ny, Nx))\n",
    "\n",
    "# Loop over bumps\n",
    "for i in range(Nbumps):\n",
    "    x0 = np.random.rand()*Lx\n",
    "    y0 = np.random.rand()*Ly \n",
    "    bump = makebump(x0, y0, dx, dy, Lx, Ly, Sigma, volume, xgrid, ygrid)\n",
    "    if i==0:\n",
    "        sum0 = np.sum(bump)\n",
    "    u += bump\n",
    "    uflat = flatten(u)\n",
    "    solflat = odeint(odefuncflat, uflat, t, args = (params,), atol=1e-7)\n",
    "    sollast = unflatten(solflat[-1], Nx, Ny)\n",
    "    u = copy.copy(sollast)\n",
    "    print(i)\n",
    "\n",
    "# This adds one more\n",
    "x0 = np.random.rand()*Lx\n",
    "y0 = np.random.rand()*Ly     \n",
    "u += makebump(x0, y0, dx, dy, Lx, Ly, Sigma, volume, xgrid, ygrid)\n",
    "print('done')"
   ]
  },
  {
   "cell_type": "code",
   "execution_count": null,
   "metadata": {
    "scrolled": true
   },
   "outputs": [],
   "source": [
    "# Plot the surface as a mesh\n",
    "fig1 = plt.figure()\n",
    "ax = fig1.add_subplot(111, projection='3d')\n",
    "ax.plot_surface(xgrid, ygrid, sollast)"
   ]
  },
  {
   "cell_type": "code",
   "execution_count": null,
   "metadata": {},
   "outputs": [],
   "source": [
    "# Calculate the gradient squared (Z2)\n",
    "dzdx = np.diff(sollast, axis=0)/dx\n",
    "dzdy = np.diff(sollast, axis = 1)/dy #we are not sure which axis is which\n",
    "Z2 = dzdx[:, 1:]**2+dzdy[1:, :]**2\n",
    "# ax = plt.figure().gca(projection='3d')\n",
    "# ax.plot_surface(xgrid[1:, 1:], ygrid[1:, 1:], Z2)"
   ]
  },
  {
   "cell_type": "code",
   "execution_count": null,
   "metadata": {},
   "outputs": [],
   "source": [
    "# Get the probability distribution\n",
    "Z2flat = np.reshape(Z2, (Nx-1)*(Ny-1))\n",
    "counts, bins = np.histogram(Z2flat)\n",
    "counts = counts/np.sum(counts)\n",
    "# print(counts)\n",
    "# print(bins)\n",
    "subset = np.array([i for i in range(4,len(bins))])-1\n",
    "print(subset)\n",
    "newbins = bins[1:]\n",
    "logcounts = np.log(counts[subset])\n",
    "p = np.polyfit(newbins[subset], logcounts, 1)\n",
    "sigma = 1/(-p[0])**.5\n",
    "sigma = int(sigma*1000)/1000\n",
    "fig2 = plt.figure()\n",
    "plt.semilogy(newbins, counts, 'o', label='Numerical result')\n",
    "plt.semilogy(bins, np.exp(np.polyval(p,bins)), label=r'$\\sigma = $'+str(sigma))\n",
    "plt.grid(True)\n",
    "plt.xlabel('$Z^2$')\n",
    "plt.ylabel(r'$\\rho$')\n",
    "plt.legend()"
   ]
  },
  {
   "cell_type": "code",
   "execution_count": null,
   "metadata": {},
   "outputs": [],
   "source": [
    "# For comparison, the theoretical prediction\n",
    "sigma_theory = 1/(np.sqrt(4.25*np.exp(1))*Sigma)\n",
    "print(sigma_theory)"
   ]
  },
  {
   "cell_type": "code",
   "execution_count": null,
   "metadata": {},
   "outputs": [],
   "source": [
    "# Save info about this run\n",
    "foldername = time.ctime()\n",
    "foldername = foldername.replace(':', '_')\n",
    "os.mkdir(foldername)\n",
    "sls.numpy2stl(sollast, foldername+\"/surface.stl\", scale = dx*10, solid=False)\n",
    "fig1.savefig(foldername+\"/surface.png\")\n",
    "fig2.savefig(foldername+\"/probability.png\")\n",
    "cfile = open(foldername+\"/parameters.nml\", \"w\")\n",
    "cfile.write('&parameters\\n')\n",
    "cfile.write('   '+\"Sigma = \"+str(Sigma)+\"\\n\")\n",
    "cfile.write('   '+\"sigma = \"+str(sigma)+\"\\n\")\n",
    "cfile.write('   '+\"sigma_theory = \"+str(sigma_theory)+\"\\n\")\n",
    "cfile.write('   '+\"Nbumps = \"+str(Nbumps)+\"\\n\")\n",
    "cfile.write('   '+\"T = \"+str(T)+\"\\n\")\n",
    "cfile.write('   '+\"Nx = \"+str(Nx)+\"\\n\")\n",
    "cfile.write('   '+\"Ny = \"+str(Ny)+\"\\n\")\n",
    "cfile.write('   '+\"Lx = \"+str(Lx)+\"\\n\")\n",
    "cfile.write('   '+\"Ly = \"+str(Ly)+\"\\n\")\n",
    "cfile.write('   '+\"D_x = \"+str(D_x)+\"\\n\")\n",
    "cfile.write('   '+\"D_y = \"+str(D_y)+\"\\n\")\n",
    "cfile.write('/ \\n')\n",
    "cfile.close()"
   ]
  },
  {
   "cell_type": "code",
   "execution_count": null,
   "metadata": {},
   "outputs": [],
   "source": []
  }
 ],
 "metadata": {
  "kernelspec": {
   "display_name": "Python 3",
   "language": "python",
   "name": "python3"
  },
  "language_info": {
   "codemirror_mode": {
    "name": "ipython",
    "version": 3
   },
   "file_extension": ".py",
   "mimetype": "text/x-python",
   "name": "python",
   "nbconvert_exporter": "python",
   "pygments_lexer": "ipython3",
   "version": "3.6.5"
  }
 },
 "nbformat": 4,
 "nbformat_minor": 2
}
