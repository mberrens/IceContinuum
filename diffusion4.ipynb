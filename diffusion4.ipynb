{
 "cells": [
  {
   "cell_type": "code",
   "execution_count": 1,
   "metadata": {
    "collapsed": true
   },
   "outputs": [],
   "source": [
    "from sympy import *"
   ]
  },
  {
   "cell_type": "code",
   "execution_count": 2,
   "metadata": {
    "collapsed": true
   },
   "outputs": [],
   "source": [
    "t = Symbol('t')\n",
    "t0 = Symbol('t0')\n",
    "x = Symbol('x')\n",
    "D = Symbol('D')"
   ]
  },
  {
   "cell_type": "code",
   "execution_count": 4,
   "metadata": {},
   "outputs": [
    {
     "name": "stdout",
     "output_type": "stream",
     "text": [
      "            2 \n",
      "          -x  \n",
      "    0.5  ─────\n",
      "⎛t₀⎞     4⋅D⋅t\n",
      "⎜──⎟   ⋅ℯ     \n",
      "⎝t ⎠          \n",
      "(t0/t)**0.5*exp(-x**2/(4*D*t))\n"
     ]
    }
   ],
   "source": [
    "T = (t0/t)**.5*exp(-x**2/(4*D*t))\n",
    "print(pretty(T))\n",
    "print(T)"
   ]
  },
  {
   "cell_type": "code",
   "execution_count": 5,
   "metadata": {},
   "outputs": [
    {
     "name": "stdout",
     "output_type": "stream",
     "text": [
      "difference = 0\n"
     ]
    }
   ],
   "source": [
    "LHS = diff(T,t); #print (LHS/T)\n",
    "RHS = D*diff(T,x,2); #print (RHS/T)\n",
    "LHSmRHS = simplify(LHS-RHS)\n",
    "print ('difference =', LHSmRHS)"
   ]
  },
  {
   "cell_type": "code",
   "execution_count": 5,
   "metadata": {},
   "outputs": [
    {
     "name": "stdout",
     "output_type": "stream",
     "text": [
      "               2 \n",
      "             -x  \n",
      "       1.0  ─────\n",
      " 2 ⎛t₀⎞     2⋅D⋅t\n",
      "x ⋅⎜──⎟   ⋅ℯ     \n",
      "   ⎝t ⎠          \n",
      "─────────────────\n",
      "        2  2     \n",
      "     4⋅D ⋅t      \n",
      "x**2*(t0/t)**1.0*exp(-x**2/(2*D*t))/(4*D**2*t**2)\n"
     ]
    }
   ],
   "source": [
    "Z = diff(T,x)\n",
    "Z2 = simplify(Z**2)\n",
    "print(pretty(Z2))\n",
    "print(Z2)"
   ]
  },
  {
   "cell_type": "code",
   "execution_count": 18,
   "metadata": {
    "collapsed": true
   },
   "outputs": [],
   "source": [
    "# logZ2 = log(Z2); print (logZ2)\n",
    "# logZ2_Taylor = simplify(series(logZ2,x=Z2,x0=1,n=2)); print (logZ2_Taylor)"
   ]
  },
  {
   "cell_type": "code",
   "execution_count": null,
   "metadata": {
    "collapsed": true
   },
   "outputs": [],
   "source": []
  }
 ],
 "metadata": {
  "kernelspec": {
   "display_name": "Python 3",
   "language": "python",
   "name": "python3"
  },
  "language_info": {
   "codemirror_mode": {
    "name": "ipython",
    "version": 3
   },
   "file_extension": ".py",
   "mimetype": "text/x-python",
   "name": "python",
   "nbconvert_exporter": "python",
   "pygments_lexer": "ipython3",
   "version": "3.6.5"
  }
 },
 "nbformat": 4,
 "nbformat_minor": 2
}
