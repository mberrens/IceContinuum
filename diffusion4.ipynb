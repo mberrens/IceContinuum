{
 "cells": [
  {
   "cell_type": "code",
   "execution_count": 33,
   "metadata": {},
   "outputs": [],
   "source": [
    "from sympy import *\n",
    "import numpy as np"
   ]
  },
  {
   "cell_type": "code",
   "execution_count": 34,
   "metadata": {},
   "outputs": [],
   "source": [
    "t = Symbol('t')\n",
    "t0 = Symbol('t0')\n",
    "x = Symbol('x')\n",
    "D = Symbol('D')"
   ]
  },
  {
   "cell_type": "code",
   "execution_count": 35,
   "metadata": {},
   "outputs": [
    {
     "name": "stdout",
     "output_type": "stream",
     "text": [
      "            2 \n",
      "          -x  \n",
      "    0.5  ─────\n",
      "⎛t₀⎞     4⋅D⋅t\n",
      "⎜──⎟   ⋅ℯ     \n",
      "⎝t ⎠          \n",
      "(t0/t)**0.5*exp(-x**2/(4*D*t))\n"
     ]
    }
   ],
   "source": [
    "T = (t0/t)**.5*exp(-x**2/(4*D*t))\n",
    "print(pretty(T))\n",
    "print(T)"
   ]
  },
  {
   "cell_type": "code",
   "execution_count": 36,
   "metadata": {},
   "outputs": [
    {
     "name": "stdout",
     "output_type": "stream",
     "text": [
      "difference = 0\n"
     ]
    }
   ],
   "source": [
    "LHS = diff(T,t); #print (LHS/T)\n",
    "RHS = D*diff(T,x,2); #print (RHS/T)\n",
    "LHSmRHS = simplify(LHS-RHS)\n",
    "print ('difference =', LHSmRHS)"
   ]
  },
  {
   "cell_type": "code",
   "execution_count": 37,
   "metadata": {},
   "outputs": [
    {
     "name": "stdout",
     "output_type": "stream",
     "text": [
      "               2 \n",
      "             -x  \n",
      "       1.0  ─────\n",
      " 2 ⎛t₀⎞     2⋅D⋅t\n",
      "x ⋅⎜──⎟   ⋅ℯ     \n",
      "   ⎝t ⎠          \n",
      "─────────────────\n",
      "        2  2     \n",
      "     4⋅D ⋅t      \n",
      "x**2*(t0/t)**1.0*exp(-x**2/(2*D*t))/(4*D**2*t**2)\n"
     ]
    }
   ],
   "source": [
    "Z = diff(T,x)\n",
    "Z2 = simplify(Z**2)\n",
    "print(pretty(Z2))\n",
    "print(Z2)"
   ]
  },
  {
   "cell_type": "code",
   "execution_count": 62,
   "metadata": {},
   "outputs": [
    {
     "name": "stdout",
     "output_type": "stream",
     "text": [
      "Z2(x) =  t0*x**2*exp(-x**2/sigma**2)/(sigma**4*t)\n",
      "Z2(sigma) =  t0*exp(-1)/(sigma**2*t)\n",
      "Z2curvature(x) =  2*t0*(1 - 5*x**2/sigma**2 + 2*x**4/sigma**4)*exp(-x**2/sigma**2)/(sigma**4*t)\n",
      "Z2curvature(sigma) =  -4*t0*exp(-1)/(sigma**4*t)\n",
      "dZ2/dt(x) =  0.125*t0*x**4*(D*t)**(-3.0)*exp(-0.5*x**2*(D*t)**(-1.0))/t**2 - 0.75*t0*x**2*(D*t)**(-2.0)*exp(-0.5*x**2*(D*t)**(-1.0))/t**2\n",
      "dZ2dt(sigma) =  4.0*D**2*t0*(sigma**2)**(-3.0)*exp(-1.0*sigma**2*(sigma**2)**(-1.0)) - 12.0*D**2*t0*(sigma**2)**(-2.0)*exp(-1.0*sigma**2*(sigma**2)**(-1.0))/sigma**2\n",
      "rho(t) =  -E*sigma**4*t/(4*t0*(4.0*D**2*t0*(sigma**2)**(-3.0)*exp(-1.0*sigma**2*(sigma**2)**(-1.0)) - 12.0*D**2*t0*(sigma**2)**(-2.0)*exp(-1.0*sigma**2*(sigma**2)**(-1.0))/sigma**2))\n",
      "rho(Z2) =  0.0459849301464303*(t0*(t0/(D*Z2))**(-0.5)/Z2)**4.0/(D**2*Z2*t0)\n",
      "                                  4.0\n",
      "                   ⎛         -0.5⎞   \n",
      "                   ⎜   ⎛ t₀ ⎞    ⎟   \n",
      "                   ⎜t₀⋅⎜────⎟    ⎟   \n",
      "                   ⎜   ⎝D⋅Z₂⎠    ⎟   \n",
      "0.0459849301464303⋅⎜─────────────⎟   \n",
      "                   ⎝      Z₂     ⎠   \n",
      "─────────────────────────────────────\n",
      "                2                    \n",
      "               D ⋅Z₂⋅t₀              \n",
      "Z2(max) =  0.2627710294081731\n",
      "log(rho) =  log(0.0459849301464303*(t0*(t0/(D*Z2))**(-0.5)/Z2)**4.0/(D**2*Z2*t0))\n",
      "d log(rho)/d Z2 =  -3.0/Z2\n",
      "f0 =  log((t0*(t0/(D*Z2max))**(-0.5)/Z2max)**4.0/(D**2*Z2max*t0)) - 3.07944154167984\n",
      "f1 =  -3.0/Z2max\n",
      "f0 =  log(2.53444624193321*(t0*(t0/D)**(-0.5))**4.0/(D**2*t0))\n",
      "f1 =  -11.4167836795280\n",
      "Inflection sigma =  0.295956657529540\n",
      "Inflection sigma =  0.295956657529540\n"
     ]
    }
   ],
   "source": [
    "# Getting the approximation based on inflection points ... this actually works\n",
    "\n",
    "sigma = Symbol('sigma')\n",
    "Z2max = Symbol('Z2max')\n",
    "\n",
    "Z2 = (t0/t)*(x**2/sigma**4)*exp(-x**2/sigma**2); print ('Z2(x) = ', Z2tot)\n",
    "Z2_at_inflection = Z2.subs(x,sigma); print ('Z2(sigma) = ', Z2_at_inflection)\n",
    "\n",
    "Z2curvature = diff(Z2,x,2); print('Z2curvature(x) = ', Z2curvature)\n",
    "Z2curvature_at_inflection = Z2curvature.subs(x,sigma); print('Z2curvature(sigma) = ', Z2curvature_at_inflection)\n",
    "\n",
    "Z2_of_t = Z2.subs(sigma,(2*D*t)**.5)\n",
    "dZ2dt = diff(Z2_of_t,t); print ('dZ2/dt(x) = ',dZ2dt)\n",
    "dZ2dt = dZ2dt.subs(t,sigma**2/(2*D))\n",
    "dZ2dt_at_inflection = dZ2dt.subs(x,sigma); print('dZ2dt(sigma) = ', dZ2dt_at_inflection)\n",
    "\n",
    "dtdZ2_at_inflection = 1/dZ2dt_at_inflection\n",
    "rho_of_t = dtdZ2_at_inflection/Z2curvature_at_inflection; print ('rho(t) = ', rho_of_t)\n",
    "\n",
    "Z2 = Symbol('Z2')\n",
    "rho_of_Z2 = rho_of_t.subs(t,t0*exp(-1)/(sigma**2*Z2)); \n",
    "rho_of_Z2 = rho_of_Z2.subs(sigma,(t0/t*exp(-1)/Z2)**.5)\n",
    "rho_of_Z2 = rho_of_Z2.subs(t,(t0/(Z2*2*D*exp(1)))**.5)\n",
    "print ('rho(Z2) = ', simplify(rho_of_Z2))\n",
    "pprint(simplify(rho_of_Z2))\n",
    "\n",
    "\n",
    "D_num = 1\n",
    "t0_num = .7\n",
    "\n",
    "Z2max_num = 1/(2*D_num*t0_num*np.exp(1)); print ('Z2(max) = ', Z2max_num)\n",
    "logrho_of_Z2 = log(rho_of_Z2); print('log(rho) = ',logrho_of_Z2)\n",
    "dlogrho_of_Z2_dZ2 = diff(logrho_of_Z2,Z2); print ('d log(rho)/d Z2 = ', dlogrho_of_Z2_dZ2)\n",
    "\n",
    "f0 = logrho_of_Z2.subs(Z2,Z2max); print('f0 = ', simplify(f0))\n",
    "f1 = dlogrho_of_Z2_dZ2.subs(Z2,Z2max); print('f1 = ', simplify(f1))\n",
    "\n",
    "f0 = f0.subs(Z2max,Z2max_num); print('f0 = ', f0)\n",
    "f1 = f1.subs(Z2max,Z2max_num); print('f1 = ', f1)\n",
    "\n",
    "sigma_num = (-1/f1)**.5; print ('Inflection sigma = ', sigma_num)\n",
    "sigma_num = 1/(6*D_num*t0_num*exp(1))**.5;  print ('Inflection sigma = ', sigma_num)\n",
    "\n",
    "#rho_of_Z2_affine = logrho_of_Z2.series(Z2,Z2max_math,1); print('Affine logrho(Z2) = ', logrho_of_Z2_affine)"
   ]
  },
  {
   "cell_type": "markdown",
   "metadata": {},
   "source": [
    "In the end, since $f_1 = {-3 \\over Z^2_{max}}$ is the slope, and $Z^2_{max} = 1/(2Dt_0e)$, then OUR sigma equals $(6Dt_0e)^{-1/2}$. Another way to think of this is to recognize that since THEIR starting sigma (gaussian width of the initial bump) is $\\Sigma = (2Dt_0)^{1/2}$, we must have $\\sigma = {1 \\over (3e)^{1/2}\\Sigma}$. Hence, the wider the initial bump, the less the roughness. And this is independent of the so-called diffusion coefficient, which makes sense because it's assumed that the bump will eventually spread out. "
   ]
  },
  {
   "cell_type": "code",
   "execution_count": null,
   "metadata": {},
   "outputs": [],
   "source": []
  }
 ],
 "metadata": {
  "kernelspec": {
   "display_name": "Python 3",
   "language": "python",
   "name": "python3"
  },
  "language_info": {
   "codemirror_mode": {
    "name": "ipython",
    "version": 3
   },
   "file_extension": ".py",
   "mimetype": "text/x-python",
   "name": "python",
   "nbconvert_exporter": "python",
   "pygments_lexer": "ipython3",
   "version": "3.6.4"
  }
 },
 "nbformat": 4,
 "nbformat_minor": 2
}
