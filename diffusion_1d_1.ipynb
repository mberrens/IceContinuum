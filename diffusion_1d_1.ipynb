{
 "cells": [
  {
   "cell_type": "code",
   "execution_count": 1,
   "metadata": {},
   "outputs": [],
   "source": [
    "from sympy import *"
   ]
  },
  {
   "cell_type": "code",
   "execution_count": 2,
   "metadata": {},
   "outputs": [],
   "source": [
    "t = Symbol('t')\n",
    "t0 = Symbol('t0')\n",
    "x = Symbol('x')\n",
    "theta = Symbol('theta')\n",
    "D = Symbol('D')\n",
    "Sigma = Symbol('Sigma')"
   ]
  },
  {
   "cell_type": "code",
   "execution_count": 3,
   "metadata": {},
   "outputs": [
    {
     "name": "stdout",
     "output_type": "stream",
     "text": [
      "(t0/t)**0.5*exp(-x**2/(4*D*t))\n"
     ]
    }
   ],
   "source": [
    "h = (t0/t)**.5*exp(-x**2/(4*D*t)); print(h)"
   ]
  },
  {
   "cell_type": "code",
   "execution_count": 4,
   "metadata": {},
   "outputs": [
    {
     "name": "stdout",
     "output_type": "stream",
     "text": [
      "-x*(t0/t)**0.5*exp(-x**2/(4*D*t))/(2*D*t)\n"
     ]
    }
   ],
   "source": [
    "dh_dx = diff(h,x); print(dh_dx)"
   ]
  },
  {
   "cell_type": "code",
   "execution_count": 5,
   "metadata": {},
   "outputs": [
    {
     "name": "stdout",
     "output_type": "stream",
     "text": [
      "x**2*(t0/t)**1.0*exp(-x**2/(2*D*t))/(4*D**2*t**2)\n"
     ]
    }
   ],
   "source": [
    "Z2 = dh_dx**2; print(Z2)"
   ]
  },
  {
   "cell_type": "code",
   "execution_count": 6,
   "metadata": {},
   "outputs": [
    {
     "name": "stdout",
     "output_type": "stream",
     "text": [
      "(t0/t)**1.0*(2 - 5*x**2/(D*t) + x**4/(D**2*t**2))*exp(-x**2/(2*D*t))/(4*D**2*t**2)\n"
     ]
    }
   ],
   "source": [
    "d2Z2_dx2 = diff(Z2,x,2); print(d2Z2_dx2)"
   ]
  },
  {
   "cell_type": "code",
   "execution_count": 7,
   "metadata": {},
   "outputs": [
    {
     "name": "stdout",
     "output_type": "stream",
     "text": [
      "-0.75*x**2*(t0/t)**1.0*exp(-x**2/(2*D*t))/(D**2*t**3) + x**4*(t0/t)**1.0*exp(-x**2/(2*D*t))/(8*D**3*t**4)\n"
     ]
    }
   ],
   "source": [
    "dZ2_dt = diff(Z2,t); print(dZ2_dt)"
   ]
  },
  {
   "cell_type": "code",
   "execution_count": 8,
   "metadata": {},
   "outputs": [
    {
     "name": "stdout",
     "output_type": "stream",
     "text": [
      "4*D**2*t**2*(t0/t)**(-1.0)*exp(x**2/(2*D*t))/((-0.75*x**2*(t0/t)**1.0*exp(-x**2/(2*D*t))/(D**2*t**3) + x**4*(t0/t)**1.0*exp(-x**2/(2*D*t))/(8*D**3*t**4))*(2 - 5*x**2/(D*t) + x**4/(D**2*t**2)))\n"
     ]
    }
   ],
   "source": [
    "rho = 1/(d2Z2_dx2*dZ2_dt); print(rho)"
   ]
  },
  {
   "cell_type": "code",
   "execution_count": 9,
   "metadata": {},
   "outputs": [
    {
     "name": "stdout",
     "output_type": "stream",
     "text": [
      "0.015625*Sigma**8*(D*t0/Sigma**2)**(-2.0)*exp(2)/D\n"
     ]
    }
   ],
   "source": [
    "rho_at_inflection = rho.subs(x,Sigma)\n",
    "rho_at_inflection = rho_at_inflection.subs(t,Sigma**2/(2*D)); print(rho_at_inflection)"
   ]
  },
  {
   "cell_type": "code",
   "execution_count": 10,
   "metadata": {},
   "outputs": [
    {
     "name": "stdout",
     "output_type": "stream",
     "text": [
      "-12.0*D*x**2*(D*t0/Sigma**2)**1.0*exp(-x**2/Sigma**2)/Sigma**6 + 4.0*D*x**4*(D*t0/Sigma**2)**1.0*exp(-x**2/Sigma**2)/Sigma**8\n"
     ]
    }
   ],
   "source": [
    "dZ2_dt = dZ2_dt.subs(t,Sigma**2/(2*D)); print(dZ2_dt)"
   ]
  },
  {
   "cell_type": "code",
   "execution_count": 14,
   "metadata": {},
   "outputs": [
    {
     "name": "stdout",
     "output_type": "stream",
     "text": [
      "rho(Z2) =  2.33164398159712*D**3*t0**4*(Z2*(t0*(t0/(D*Z2))**(-0.5)/Z2)**1.0)**(-1.0)*(D*t0*(t0*(t0/(D*Z2))**(-0.5)/Z2)**(-1.0))**(-1.0)*(t0*(t0/(D*Z2))**(-0.5)/Z2)**5.0*exp(-1.16582199079856*Sigma**2*(t0*(t0/(D*Z2))**(-0.5)/Z2)**(-1.0) + (2.33164398159712*D*Sigma**2*t0*(t0*(t0/(D*Z2))**(-0.5)/Z2)**(-1.0) - 2*D*t0 + 0.428881942480353*E*Sigma**2*Z2*(t0*(t0/(D*Z2))**(-0.5)/Z2)**1.0)/(D*t0))/(Sigma**2*Z2**2*(8.61432409137759*Sigma**2*(t0*(t0/(D*Z2))**(-0.5)/Z2)**3.0 - 22.1671682967919*(t0*(t0/(D*Z2))**(-0.5)/Z2)**4.0)*(2*D**2*t0**2 - 4.28881942480353*E*D*Sigma**2*Z2*t0*(t0*(t0/(D*Z2))**(-0.5)/Z2)**1.0 + 0.735758882342885*Sigma**4*Z2**2*(t0*(t0/(D*Z2))**(-0.5)/Z2)**2.0*exp(2)))\n"
     ]
    }
   ],
   "source": [
    "rho_of_t = 1/(d2Z2_dx2*dZ2_dt); #print(rho_of_t)\n",
    "Z2 = Symbol('Z2')\n",
    "rho_of_Z2 = rho_of_t.subs(t,t0*exp(-1)/(Sigma**2*Z2)); \n",
    "rho_of_Z2 = rho_of_Z2.subs(Sigma,(t0/t*exp(-1)/Z2)**.5)\n",
    "rho_of_Z2 = rho_of_Z2.subs(t,(t0/(Z2*2*D*exp(1)))**.5)\n",
    "rho_of_Z2 = rho_of_Z2.subs(x,Sigma)\n",
    "print ('rho(Z2) = ', simplify(rho_of_Z2))"
   ]
  }
 ],
 "metadata": {
  "kernelspec": {
   "display_name": "Python 3",
   "language": "python",
   "name": "python3"
  },
  "language_info": {
   "codemirror_mode": {
    "name": "ipython",
    "version": 3
   },
   "file_extension": ".py",
   "mimetype": "text/x-python",
   "name": "python",
   "nbconvert_exporter": "python",
   "pygments_lexer": "ipython3",
   "version": "3.6.4"
  }
 },
 "nbformat": 4,
 "nbformat_minor": 2
}
