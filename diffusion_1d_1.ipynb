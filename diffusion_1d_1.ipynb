{
 "cells": [
  {
   "cell_type": "code",
   "execution_count": 1,
   "metadata": {},
   "outputs": [],
   "source": [
    "from sympy import *\n",
    "import numpy as np"
   ]
  },
  {
   "cell_type": "code",
   "execution_count": 2,
   "metadata": {},
   "outputs": [],
   "source": [
    "# Defining symbolic variables\n",
    "t = Symbol('t')\n",
    "t0 = Symbol('t0')\n",
    "x = Symbol('x')\n",
    "theta = Symbol('theta')\n",
    "D = Symbol('D')\n",
    "Sigma = Symbol('Sigma')\n",
    "Z2max = Symbol('Z2max')"
   ]
  },
  {
   "cell_type": "code",
   "execution_count": 3,
   "metadata": {},
   "outputs": [
    {
     "name": "stdout",
     "output_type": "stream",
     "text": [
      "(t0/t)**0.5*exp(-x**2/(4*D*t))\n",
      "difference = 0\n"
     ]
    }
   ],
   "source": [
    "# This is the height function\n",
    "h = (t0/t)**.5*exp(-x**2/(4*D*t)); print(h)\n",
    "\n",
    "# Testing this as height function\n",
    "LHS = diff(h,t)\n",
    "RHS = D*diff(h,x,2)\n",
    "LHSmRHS = simplify(LHS-RHS)\n",
    "print ('difference =', LHSmRHS)"
   ]
  },
  {
   "cell_type": "markdown",
   "metadata": {},
   "source": [
    "### In mathematical notation\n",
    "$h(x,t)=({t_0 \\over t})^{1/2}exp(-{x^2 \\over 4Dt})$\n",
    "\n",
    "Regarding normalization, since\n",
    "$\\int_{-\\infty}^\\infty {e^{-ax^2}dx}=({\\pi / a})^{1/2}$, we must have $\\int_{-\\infty}^\\infty {h(x,t)dx}=({t_0 \\over t})^{1/2}({4 \\pi D t)})^{1/2}=({4 \\pi D t_0})^{1/2}$ [or $(2 \\pi)^{1/2} \\Sigma$].   \n",
    "\n",
    "That means, if we want hills of unit area, we would specify  \n",
    "\n",
    "$h ^\\prime (x,t)=({1 \\over 4 \\pi D t_0})^{1/2}h(x,t)$"
   ]
  },
  {
   "cell_type": "code",
   "execution_count": 4,
   "metadata": {},
   "outputs": [
    {
     "name": "stdout",
     "output_type": "stream",
     "text": [
      "-x*(t0/t)**0.5*exp(-x**2/(4*D*t))/(2*D*t)\n"
     ]
    }
   ],
   "source": [
    "# Calculating the gradient of the height function\n",
    "dh_dx = diff(h,x); print(dh_dx)"
   ]
  },
  {
   "cell_type": "markdown",
   "metadata": {},
   "source": [
    "### In mathematical notation \n",
    "${dh \\over {dx}} = - {x \\over 2Dt} ({t_0 \\over t})^{1/2} exp(-{x^2 \\over 4Dt}) $"
   ]
  },
  {
   "cell_type": "code",
   "execution_count": 5,
   "metadata": {},
   "outputs": [
    {
     "name": "stdout",
     "output_type": "stream",
     "text": [
      "               2 \n",
      "             -x  \n",
      "       1.0  ─────\n",
      " 2 ⎛t₀⎞     2⋅D⋅t\n",
      "x ⋅⎜──⎟   ⋅ℯ     \n",
      "   ⎝t ⎠          \n",
      "─────────────────\n",
      "        2  2     \n",
      "     4⋅D ⋅t      \n"
     ]
    }
   ],
   "source": [
    "# Square of the gradient is Z^2\n",
    "Z2 = dh_dx**2; pprint(Z2)"
   ]
  },
  {
   "cell_type": "markdown",
   "metadata": {},
   "source": [
    "### In mathematical notation\n",
    "$Z^2(x,t) \\equiv ({dh \\over {dx}})^2 = ({x \\over 2Dt})^2 ({t_0 \\over t}) \\ exp(-{x^2 \\over 2Dt}) $"
   ]
  },
  {
   "cell_type": "code",
   "execution_count": 6,
   "metadata": {},
   "outputs": [
    {
     "name": "stdout",
     "output_type": "stream",
     "text": [
      "          2 \n",
      "        -x  \n",
      "       ─────\n",
      "    2  2⋅D⋅t\n",
      "t₀⋅x ⋅ℯ     \n",
      "────────────\n",
      "     2  3   \n",
      "  4⋅D ⋅t    \n"
     ]
    }
   ],
   "source": [
    "# Checking in with previous derivation:\n",
    "Z2_prev = (t0/t)*(x**2/Sigma**4)*exp(-x**2/Sigma**2); #pprint(Z2_prev)\n",
    "\n",
    "# It seems that the previous expression for Z^2 is the same, with Sigma replaced by its time dependence\n",
    "pprint((Z2_prev.subs(Sigma,sqrt(2*D*t))))"
   ]
  },
  {
   "cell_type": "code",
   "execution_count": 7,
   "metadata": {},
   "outputs": [
    {
     "name": "stdout",
     "output_type": "stream",
     "text": [
      "                               2 \n",
      "                             -x  \n",
      "    1.0 ⎛       2      4 ⎞  ─────\n",
      "⎛t₀⎞    ⎜    5⋅x      x  ⎟  2⋅D⋅t\n",
      "⎜──⎟   ⋅⎜2 - ──── + ─────⎟⋅ℯ     \n",
      "⎝t ⎠    ⎜    D⋅t     2  2⎟       \n",
      "        ⎝           D ⋅t ⎠       \n",
      "─────────────────────────────────\n",
      "                2  2             \n",
      "             4⋅D ⋅t              \n"
     ]
    }
   ],
   "source": [
    "# Curvature of Z^2 \n",
    "d2Z2_dx2 = diff(Z2,x,2); pprint(d2Z2_dx2)"
   ]
  },
  {
   "cell_type": "markdown",
   "metadata": {},
   "source": [
    "### In mathematical notation\n",
    "${d^2 Z^2 \\over dx^2}(x,t) = ({t_0 \\over t}){1 \\over 4D^2t^2}[2-{5x^2 \\over Dt} + {x^4 \\over D^2t^2} ]\\ exp(-{x^2 \\over 2Dt}) $"
   ]
  },
  {
   "cell_type": "code",
   "execution_count": 8,
   "metadata": {},
   "outputs": [
    {
     "name": "stdout",
     "output_type": "stream",
     "text": [
      "t0*(1 - 5*x**2/(2*D*t) + x**4/(2*D**2*t**2))*exp(-x**2/(2*D*t))/(2*D**2*t**3)\n"
     ]
    }
   ],
   "source": [
    "# Checking in again ...\n",
    "Z2curvature_prev = diff(Z2_prev,x,2); #print('Z2curvature(x) = ', Z2curvature)\n",
    "\n",
    "# Substituting Sigma by time-explicit expression again\n",
    "test = Z2curvature_prev.subs(Sigma,sqrt(2*D*t)) \n",
    "print(test)"
   ]
  },
  {
   "cell_type": "code",
   "execution_count": 9,
   "metadata": {},
   "outputs": [
    {
     "name": "stdout",
     "output_type": "stream",
     "text": [
      "                      2                   2 \n",
      "                    -x                  -x  \n",
      "              1.0  ─────          1.0  ─────\n",
      "        2 ⎛t₀⎞     2⋅D⋅t    4 ⎛t₀⎞     2⋅D⋅t\n",
      "  0.75⋅x ⋅⎜──⎟   ⋅ℯ        x ⋅⎜──⎟   ⋅ℯ     \n",
      "          ⎝t ⎠                ⎝t ⎠          \n",
      "- ────────────────────── + ─────────────────\n",
      "           2  3                    3  4     \n",
      "          D ⋅t                  8⋅D ⋅t      \n"
     ]
    }
   ],
   "source": [
    "# Now getting the derivative of Z^2 with respect to time\n",
    "dZ2_dt = diff(Z2,t); pprint(dZ2_dt)"
   ]
  },
  {
   "cell_type": "markdown",
   "metadata": {},
   "source": [
    "### In mathematical notation\n",
    "${d Z^2 \\over dt}(x,t) = ({t_0 \\over t})[-{3x^2 \\over 4 D^2 t^3}+{x^4 \\over 8 D^3 t^4}] \\ exp(-{x^2 \\over 2Dt})$"
   ]
  },
  {
   "cell_type": "code",
   "execution_count": 10,
   "metadata": {},
   "outputs": [
    {
     "name": "stdout",
     "output_type": "stream",
     "text": [
      "              2              2 \n",
      "            -x             -x  \n",
      "           ─────          ─────\n",
      "        2  2⋅D⋅t       4  2⋅D⋅t\n",
      "  3⋅t₀⋅x ⋅ℯ        t₀⋅x ⋅ℯ     \n",
      "- ────────────── + ────────────\n",
      "        2  4            3  5   \n",
      "     4⋅D ⋅t          8⋅D ⋅t    \n"
     ]
    }
   ],
   "source": [
    "# Checking in again ...\n",
    "Z2_of_t_prev = Z2_prev.subs(Sigma,sqrt(2*D*t))\n",
    "dZ2dt_prev = diff(Z2_of_t_prev,t)\n",
    "pprint (dZ2dt_prev)"
   ]
  },
  {
   "cell_type": "code",
   "execution_count": 11,
   "metadata": {},
   "outputs": [
    {
     "name": "stdout",
     "output_type": "stream",
     "text": [
      "             1.0     \n",
      "       ⎛D⋅t₀⎞     -1 \n",
      "-8.0⋅D⋅⎜────⎟   ⋅ℯ   \n",
      "       ⎜  2 ⎟        \n",
      "       ⎝ Σ  ⎠        \n",
      "─────────────────────\n",
      "           4         \n",
      "          Σ          \n"
     ]
    }
   ],
   "source": [
    "# Evaluate dZ^2/dt at the inflection point\n",
    "dZ2_dt = dZ2_dt.subs(t,Sigma**2/(2*D))\n",
    "dZ2_dt_at_inflection = dZ2_dt.subs(x,Sigma)\n",
    "pprint(dZ2_dt_at_inflection)"
   ]
  },
  {
   "cell_type": "markdown",
   "metadata": {},
   "source": [
    "### In mathematical notation, at the inflection point\n",
    "${d Z^2 \\over dt}^\\prime \\equiv {d Z^2 \\over dt}(x=\\Sigma,t={\\Sigma^2 \\over 2D}) = -{8 D^2 t_0 \\over \\Sigma^6 e}$"
   ]
  },
  {
   "cell_type": "code",
   "execution_count": 12,
   "metadata": {},
   "outputs": [
    {
     "name": "stdout",
     "output_type": "stream",
     "text": [
      "    2     -1 \n",
      "-8⋅D ⋅t₀⋅ℯ   \n",
      "─────────────\n",
      "       6     \n",
      "      Σ      \n"
     ]
    }
   ],
   "source": [
    "# Checking in again ...\n",
    "dZ2dt_prev = dZ2dt_prev.subs(t,Sigma**2/(2*D))\n",
    "dZ2dt_at_inflection_prev = dZ2dt_prev.subs(x,Sigma)\n",
    "pprint(dZ2dt_at_inflection_prev)"
   ]
  },
  {
   "cell_type": "code",
   "execution_count": 13,
   "metadata": {},
   "outputs": [
    {
     "name": "stdout",
     "output_type": "stream",
     "text": [
      "                  -1.0 \n",
      "          4 ⎛D⋅t₀⎞     \n",
      "-0.125⋅ℯ⋅Σ ⋅⎜────⎟     \n",
      "            ⎜  2 ⎟     \n",
      "            ⎝ Σ  ⎠     \n",
      "───────────────────────\n",
      "           D           \n"
     ]
    }
   ],
   "source": [
    "# Get the inverse of dZ^2/dt\n",
    "dt_dZ2_at_inflection = 1/dZ2_dt_at_inflection\n",
    "pprint(dt_dZ2_at_inflection)"
   ]
  },
  {
   "cell_type": "markdown",
   "metadata": {},
   "source": [
    "### In mathematical notation, at the inflection point\n",
    "${d t \\over dZ^2}^\\prime = -{\\Sigma^6 e \\over 8 D^2 t_0 }$"
   ]
  },
  {
   "cell_type": "code",
   "execution_count": 14,
   "metadata": {},
   "outputs": [
    {
     "name": "stdout",
     "output_type": "stream",
     "text": [
      "     6 \n",
      " -ℯ⋅Σ  \n",
      "───────\n",
      "   2   \n",
      "8⋅D ⋅t₀\n"
     ]
    }
   ],
   "source": [
    "# Checking ...\n",
    "dtdZ2_at_inflection_prev = 1/dZ2dt_at_inflection_prev\n",
    "pprint(dtdZ2_at_inflection_prev)"
   ]
  },
  {
   "cell_type": "code",
   "execution_count": 15,
   "metadata": {},
   "outputs": [
    {
     "name": "stdout",
     "output_type": "stream",
     "text": [
      "           1.0     \n",
      "     ⎛D⋅t₀⎞     -1 \n",
      "-8.0⋅⎜────⎟   ⋅ℯ   \n",
      "     ⎜  2 ⎟        \n",
      "     ⎝ Σ  ⎠        \n",
      "───────────────────\n",
      "          4        \n",
      "         Σ         \n"
     ]
    }
   ],
   "source": [
    "# Getting curvature at inflection\n",
    "d2Z2_dx2_at_inflection = d2Z2_dx2.subs(x,Sigma)\n",
    "d2Z2_dx2_at_inflection = d2Z2_dx2_at_inflection.subs(t,Sigma**2/(2*D))\n",
    "pprint(d2Z2_dx2_at_inflection)"
   ]
  },
  {
   "cell_type": "markdown",
   "metadata": {},
   "source": [
    "### In mathematical notation, at the inflection point\n",
    "${d^2 Z^2 \\over dx^2} ^\\prime = -8 {D t_0 \\over \\Sigma^6 e} $"
   ]
  },
  {
   "cell_type": "code",
   "execution_count": 16,
   "metadata": {},
   "outputs": [
    {
     "name": "stdout",
     "output_type": "stream",
     "text": [
      "         -1 \n",
      "-8⋅D⋅t₀⋅ℯ   \n",
      "────────────\n",
      "      6     \n",
      "     Σ      \n"
     ]
    }
   ],
   "source": [
    "# Checking ... Getting curvature at inflection\n",
    "Z2curvature_at_inflection_prev = Z2curvature_prev.subs(x,Sigma)\n",
    "pprint(Z2curvature_at_inflection_prev.subs(t,Sigma**2/(2*D)))"
   ]
  },
  {
   "cell_type": "code",
   "execution_count": 17,
   "metadata": {},
   "outputs": [
    {
     "name": "stdout",
     "output_type": "stream",
     "text": [
      "                  -2.0   \n",
      "          8 ⎛D⋅t₀⎞      2\n",
      "0.015625⋅Σ ⋅⎜────⎟    ⋅ℯ \n",
      "            ⎜  2 ⎟       \n",
      "            ⎝ Σ  ⎠       \n",
      "─────────────────────────\n",
      "            D            \n"
     ]
    }
   ],
   "source": [
    "# Now getting the probability density\n",
    "rho_of_t = dt_dZ2_at_inflection/d2Z2_dx2_at_inflection\n",
    "pprint(rho_of_t)"
   ]
  },
  {
   "cell_type": "markdown",
   "metadata": {},
   "source": [
    "### In mathematical notation\n",
    "$\\rho(\\Sigma) = { {d t \\over dZ^2}^\\prime \\over {d^2 Z^2 \\over dx^2} ^\\prime } =\n",
    "{-{\\Sigma^6 e \\over 8 D^2 t_0 } \\over {-8 {D t_0 \\over \\Sigma^6 e}}} =\n",
    "{{\\Sigma^{12} e^2 } \\over {64 {D^3 t_0^2 }}}\n",
    "$"
   ]
  },
  {
   "cell_type": "code",
   "execution_count": 18,
   "metadata": {},
   "outputs": [
    {
     "name": "stdout",
     "output_type": "stream",
     "text": [
      "   12  2 \n",
      "  Σ  ⋅ℯ  \n",
      "─────────\n",
      "    3   2\n",
      "64⋅D ⋅t₀ \n"
     ]
    }
   ],
   "source": [
    "# Checking again ...\n",
    "rho_of_t_prev = dtdZ2_at_inflection_prev/Z2curvature_at_inflection_prev\n",
    "pprint (rho_of_t_prev.subs(t,Sigma**2/(2*D)))"
   ]
  },
  {
   "cell_type": "code",
   "execution_count": 19,
   "metadata": {},
   "outputs": [],
   "source": [
    "# Creating Z^2 as an independent variable\n",
    "Z2 = Symbol('Z2')"
   ]
  },
  {
   "cell_type": "code",
   "execution_count": 20,
   "metadata": {},
   "outputs": [
    {
     "name": "stdout",
     "output_type": "stream",
     "text": [
      "                        0.5\n",
      "                  ⎛D⋅t₀⎞   \n",
      "0.857763884960707⋅⎜────⎟   \n",
      "                  ⎝ Z₂ ⎠   \n",
      "                                               -2.0   \n",
      "                          2.0 ⎛           -0.5⎞       \n",
      "                    ⎛D⋅t₀⎞    ⎜     ⎛D⋅t₀⎞    ⎟      2\n",
      "0.00622338354598299⋅⎜────⎟   ⋅⎜D⋅t₀⋅⎜────⎟    ⎟    ⋅ℯ \n",
      "                    ⎝ Z₂ ⎠    ⎝     ⎝ Z₂ ⎠    ⎠       \n",
      "──────────────────────────────────────────────────────\n",
      "                          D                           \n",
      "0.00622338354598299*(D*t0/Z2)**2.0*(D*t0*(D*t0/Z2)**(-0.5))**(-2.0)*exp(2)/D\n",
      "\n",
      "                    2\n",
      "0.0459849301464303⋅ℯ \n"
     ]
    }
   ],
   "source": [
    "# Getting the probability density as a function of Z^2\n",
    "# by substituting Sigma = ((((2*D/exp(1))*t0/Z2)**.5))**.5\n",
    "# mySigma = (t0/((t0/(Z2*2*D*exp(1)))**.5)*exp(-1)/Z2)**.5; #pprint(mySigma)\n",
    "# mySigma = (t0*(((Z2*2*D*exp(1))/t0)**.5)*exp(-1)/Z2)**.5; pprint(mySigma)\n",
    "# mySigma = ((((2*D*exp(1))*t0/Z2)**.5)*exp(-1))**.5; pprint(mySigma)\n",
    "mySigma = ((((2*D/exp(1))*t0/Z2)**.5))**.5; #pprint(mySigma)\n",
    "mySigma2 = mySigma**2; pprint(mySigma2)\n",
    "\n",
    "rho_of_Z2 = rho_of_t.subs(Sigma,((((2*D/exp(1))*t0/Z2)**.5))**.5)\n",
    "rho_of_Z2 = simplify(rho_of_Z2)\n",
    "\n",
    "pprint(rho_of_Z2)\n",
    "print(rho_of_Z2)\n",
    "\n",
    "# This is doing a numerical check\n",
    "nt1 = rho_of_Z2.subs(t0,1)\n",
    "nt2 = nt1.subs(D,10)\n",
    "nt3 = nt2.subs(Z2,1)\n",
    "print()\n",
    "pprint(nt3*np.exp(2))"
   ]
  },
  {
   "cell_type": "markdown",
   "metadata": {},
   "source": [
    "### In mathematical notation\n",
    "$\\rho(Z^2) \\equiv \\rho(\\Sigma^2 = ({2D t_0 \\over Z^2 e})^{1/2})=\n",
    "{{{({2D t_0 \\over Z^2 e})^3} e^2 } \\over {64 {D^3 t_0^2 }}}=\n",
    "{2^3D^3t_0^3 \\over (Z^2)^3 e \\ 64 D^3 t_0^2}=\n",
    "{2^3t_0 \\over (Z^2)^3 e \\ 64 }=\n",
    "{t_0 \\over (Z^2)^3 e \\ 2^3 }\n",
    "$"
   ]
  },
  {
   "cell_type": "code",
   "execution_count": 21,
   "metadata": {},
   "outputs": [
    {
     "name": "stdout",
     "output_type": "stream",
     "text": [
      "0.04598493014643029\n"
     ]
    }
   ],
   "source": [
    "# This is a check on the analytical result just obtained\n",
    "print(1/(np.exp(1)*8))"
   ]
  },
  {
   "cell_type": "code",
   "execution_count": 22,
   "metadata": {},
   "outputs": [
    {
     "name": "stdout",
     "output_type": "stream",
     "text": [
      "                                    4.0\n",
      "                     ⎛         -0.5⎞   \n",
      "                     ⎜   ⎛ t₀ ⎞    ⎟   \n",
      "                     ⎜t₀⋅⎜────⎟    ⎟   \n",
      "                     ⎜   ⎝D⋅Z₂⎠    ⎟   \n",
      "0.0169169104045766⋅ℯ⋅⎜─────────────⎟   \n",
      "                     ⎝      Z₂     ⎠   \n",
      "───────────────────────────────────────\n",
      "                 2                     \n",
      "                D ⋅Z₂⋅t₀               \n",
      "\n",
      "0.0459849301464303⋅ℯ\n"
     ]
    }
   ],
   "source": [
    "# Checking again ...\n",
    "t1 = rho_of_t_prev.subs(t,t0*exp(-1)/(Sigma**2*Z2)); \n",
    "t2 = t1.subs(Sigma,(t0/t*exp(-1)/Z2)**.5)\n",
    "rho_of_Z2_prev = simplify(t2.subs(t,(t0/(Z2*2*D*exp(1)))**.5))\n",
    "pprint(rho_of_Z2_prev)\n",
    "\n",
    "# This is doing a numerical check\n",
    "nt1 = rho_of_Z2_prev.subs(t0,1)\n",
    "nt2 = nt1.subs(D,10)\n",
    "nt3 = nt2.subs(Z2,1)\n",
    "print()\n",
    "pprint(nt3*np.exp(1))"
   ]
  },
  {
   "cell_type": "code",
   "execution_count": 23,
   "metadata": {},
   "outputs": [
    {
     "name": "stdout",
     "output_type": "stream",
     "text": [
      "t0*exp(-1)/(8*Z2**3)\n"
     ]
    }
   ],
   "source": [
    "# Since sympy appears to be too stupid to get rid of the D-dependence in rho(Z^2), so it here\n",
    "rho_of_Z2 = t0/(Z2**3*exp(1)*8)\n",
    "print(rho_of_Z2)"
   ]
  },
  {
   "cell_type": "code",
   "execution_count": 24,
   "metadata": {},
   "outputs": [
    {
     "name": "stdout",
     "output_type": "stream",
     "text": [
      "   ⎛    -1⎞\n",
      "   ⎜t₀⋅ℯ  ⎟\n",
      "log⎜──────⎟\n",
      "   ⎜    3 ⎟\n",
      "   ⎝8⋅Z₂  ⎠\n",
      "-3 \n",
      "───\n",
      " Z₂\n"
     ]
    }
   ],
   "source": [
    "# Here, setting up the affine approximation to log(rho)\n",
    "logrho_of_Z2 = log(rho_of_Z2); #print('log(rho) = ',logrho_of_Z2)\n",
    "pprint(logrho_of_Z2)\n",
    "dlogrho_of_Z2_dZ2 = diff(logrho_of_Z2,Z2); #print ('d log(rho)/d Z2 = ', dlogrho_of_Z2_dZ2)\n",
    "pprint(dlogrho_of_Z2_dZ2)"
   ]
  },
  {
   "cell_type": "code",
   "execution_count": 25,
   "metadata": {},
   "outputs": [
    {
     "name": "stdout",
     "output_type": "stream",
     "text": [
      "     -1 \n",
      " t₀⋅ℯ   \n",
      "────────\n",
      "       3\n",
      "8⋅Z2max \n",
      "\n",
      "\n",
      " -3  \n",
      "─────\n",
      "Z2max\n",
      "\n",
      "\n",
      "  -1  \n",
      " ℯ    \n",
      "──────\n",
      "2⋅D⋅t₀\n",
      "\n",
      "\n",
      " 3   4  2\n",
      "D ⋅t₀ ⋅ℯ \n",
      "\n",
      "\n",
      "-6⋅ℯ⋅D⋅t₀\n",
      "\n",
      "\n"
     ]
    }
   ],
   "source": [
    "# Setting up the expansion about Z2max\n",
    "Z2max = Symbol('Z2max')\n",
    "f0 = rho_of_Z2.subs(Z2,Z2max); pprint(f0); print('\\n')\n",
    "f1 = dlogrho_of_Z2_dZ2.subs(Z2,Z2max); pprint(f1); print('\\n')\n",
    "\n",
    "Z2max = 1/(2*D*t0*exp(1))\n",
    "pprint (Z2max); print('\\n')\n",
    "f0 = rho_of_Z2.subs(Z2,Z2max); pprint(f0); print('\\n')\n",
    "f1 = dlogrho_of_Z2_dZ2.subs(Z2,Z2max); pprint(f1); print('\\n')"
   ]
  },
  {
   "cell_type": "code",
   "execution_count": 26,
   "metadata": {},
   "outputs": [
    {
     "name": "stdout",
     "output_type": "stream",
     "text": [
      "      2\n",
      "-3⋅ℯ⋅Σ \n"
     ]
    }
   ],
   "source": [
    "# Expressing the slope in terms of the initial gaussian width\n",
    "f1_of_Sigma = f1/(2*D*t0)*Sigma**2; \n",
    "pprint(f1_of_Sigma)"
   ]
  },
  {
   "cell_type": "code",
   "execution_count": 27,
   "metadata": {},
   "outputs": [
    {
     "name": "stdout",
     "output_type": "stream",
     "text": [
      "                     0.5\n",
      "                 ⎛1 ⎞   \n",
      "0.35018063965685⋅⎜──⎟   \n",
      "                 ⎜ 2⎟   \n",
      "                 ⎝Σ ⎠   \n"
     ]
    }
   ],
   "source": [
    "# Here's the roughness parameter, sigma, calculated from the affine approximation\n",
    "sigma = (-1/f1_of_Sigma)**.5\n",
    "pprint(sigma)"
   ]
  },
  {
   "cell_type": "markdown",
   "metadata": {},
   "source": [
    "### In mathematical notation\n",
    "$f_1 = -3 e \\Sigma^2$  \n",
    "\n",
    "$\\sigma = ({1 \\over 3e})^{1/2} {1 \\over \\Sigma}$\n",
    "\n",
    "Hence, the wider the initial bump, the less the roughness. And this is independent of the so-called diffusion coefficient, which makes sense because it's assumed that the bump will eventually spread out. "
   ]
  },
  {
   "cell_type": "code",
   "execution_count": null,
   "metadata": {},
   "outputs": [],
   "source": []
  }
 ],
 "metadata": {
  "kernelspec": {
   "display_name": "Python 3",
   "language": "python",
   "name": "python3"
  },
  "language_info": {
   "codemirror_mode": {
    "name": "ipython",
    "version": 3
   },
   "file_extension": ".py",
   "mimetype": "text/x-python",
   "name": "python",
   "nbconvert_exporter": "python",
   "pygments_lexer": "ipython3",
   "version": "3.6.5"
  }
 },
 "nbformat": 4,
 "nbformat_minor": 2
}
