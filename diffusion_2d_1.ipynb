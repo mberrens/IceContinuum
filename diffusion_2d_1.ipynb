{
 "cells": [
  {
   "cell_type": "code",
   "execution_count": 1,
   "metadata": {},
   "outputs": [],
   "source": [
    "from sympy import *\n",
    "import numpy as np"
   ]
  },
  {
   "cell_type": "code",
   "execution_count": 2,
   "metadata": {},
   "outputs": [],
   "source": [
    "t = Symbol('t')\n",
    "t0 = Symbol('t0')\n",
    "r = Symbol('r')\n",
    "theta = Symbol('theta')\n",
    "D = Symbol('D')\n",
    "Sigma = Symbol('Sigma')\n",
    "Z2max = Symbol('Z2max')"
   ]
  },
  {
   "cell_type": "code",
   "execution_count": 3,
   "metadata": {},
   "outputs": [
    {
     "name": "stdout",
     "output_type": "stream",
     "text": [
      "(t0/t)**0.5*exp(-r**2/(4*D*t))\n"
     ]
    }
   ],
   "source": [
    "# This is the height function\n",
    "h = (t0/t)**.5*exp(-r**2/(4*D*t)); print(h)"
   ]
  },
  {
   "cell_type": "code",
   "execution_count": 4,
   "metadata": {},
   "outputs": [
    {
     "name": "stdout",
     "output_type": "stream",
     "text": [
      "-r*(t0/t)**0.5*exp(-r**2/(4*D*t))/(2*D*t)\n"
     ]
    }
   ],
   "source": [
    "# Gradient of the height function\n",
    "dh_dr = diff(h,r); print(dh_dr)"
   ]
  },
  {
   "cell_type": "code",
   "execution_count": 5,
   "metadata": {},
   "outputs": [
    {
     "name": "stdout",
     "output_type": "stream",
     "text": [
      "               2 \n",
      "             -r  \n",
      "       1.0  ─────\n",
      " 2 ⎛t₀⎞     2⋅D⋅t\n",
      "r ⋅⎜──⎟   ⋅ℯ     \n",
      "   ⎝t ⎠          \n",
      "─────────────────\n",
      "        2  2     \n",
      "     4⋅D ⋅t      \n"
     ]
    }
   ],
   "source": [
    "# Square of the gradient is Z^2\n",
    "Z2 = dh_dr**2; pprint(Z2)"
   ]
  },
  {
   "cell_type": "code",
   "execution_count": 6,
   "metadata": {},
   "outputs": [
    {
     "name": "stdout",
     "output_type": "stream",
     "text": [
      "(t0/t)**1.0*(2 - 5*r**2/(D*t) + r**4/(D**2*t**2))*exp(-r**2/(2*D*t))/(4*D**2*t**2)\n"
     ]
    }
   ],
   "source": [
    "# Curvature of Z^2 \n",
    "d2Z2_dr2 = diff(Z2,r,2); print(d2Z2_dr2)"
   ]
  },
  {
   "cell_type": "code",
   "execution_count": 7,
   "metadata": {},
   "outputs": [
    {
     "name": "stdout",
     "output_type": "stream",
     "text": [
      "                      2                   2 \n",
      "                    -r                  -r  \n",
      "              1.0  ─────          1.0  ─────\n",
      "        2 ⎛t₀⎞     2⋅D⋅t    4 ⎛t₀⎞     2⋅D⋅t\n",
      "  0.75⋅r ⋅⎜──⎟   ⋅ℯ        r ⋅⎜──⎟   ⋅ℯ     \n",
      "          ⎝t ⎠                ⎝t ⎠          \n",
      "- ────────────────────── + ─────────────────\n",
      "           2  3                    3  4     \n",
      "          D ⋅t                  8⋅D ⋅t      \n"
     ]
    }
   ],
   "source": [
    "dZ2_dt = diff(Z2,t); pprint(dZ2_dt)"
   ]
  },
  {
   "cell_type": "code",
   "execution_count": 8,
   "metadata": {},
   "outputs": [
    {
     "name": "stdout",
     "output_type": "stream",
     "text": [
      "             1.0     \n",
      "       ⎛D⋅t₀⎞     -1 \n",
      "-8.0⋅D⋅⎜────⎟   ⋅ℯ   \n",
      "       ⎜  2 ⎟        \n",
      "       ⎝ Σ  ⎠        \n",
      "─────────────────────\n",
      "           4         \n",
      "          Σ          \n"
     ]
    }
   ],
   "source": [
    "# Evaluate dZ^2/dt at the inflection point\n",
    "dZ2_dt = dZ2_dt.subs(t,Sigma**2/(2*D))\n",
    "dZ2_dt_at_inflection = dZ2_dt.subs(r,Sigma)\n",
    "pprint(dZ2_dt_at_inflection)"
   ]
  },
  {
   "cell_type": "code",
   "execution_count": 9,
   "metadata": {},
   "outputs": [
    {
     "name": "stdout",
     "output_type": "stream",
     "text": [
      "                  -1.0 \n",
      "          4 ⎛D⋅t₀⎞     \n",
      "-0.125⋅ℯ⋅Σ ⋅⎜────⎟     \n",
      "            ⎜  2 ⎟     \n",
      "            ⎝ Σ  ⎠     \n",
      "───────────────────────\n",
      "           D           \n"
     ]
    }
   ],
   "source": [
    "# Get the inverse of dZ^2/dt\n",
    "dt_dZ2_at_inflection = 1/dZ2_dt_at_inflection\n",
    "pprint(dt_dZ2_at_inflection)"
   ]
  },
  {
   "cell_type": "code",
   "execution_count": 10,
   "metadata": {},
   "outputs": [
    {
     "name": "stdout",
     "output_type": "stream",
     "text": [
      "           1.0     \n",
      "     ⎛D⋅t₀⎞     -1 \n",
      "-8.0⋅⎜────⎟   ⋅ℯ   \n",
      "     ⎜  2 ⎟        \n",
      "     ⎝ Σ  ⎠        \n",
      "───────────────────\n",
      "          4        \n",
      "         Σ         \n"
     ]
    }
   ],
   "source": [
    "# Getting curvature at inflection\n",
    "d2Z2_dr2_at_inflection = d2Z2_dr2.subs(r,Sigma)\n",
    "d2Z2_dr2_at_inflection = d2Z2_dr2_at_inflection.subs(t,Sigma**2/(2*D))\n",
    "pprint(d2Z2_dr2_at_inflection)"
   ]
  },
  {
   "cell_type": "code",
   "execution_count": 11,
   "metadata": {},
   "outputs": [
    {
     "name": "stdout",
     "output_type": "stream",
     "text": [
      "                  -2.0   \n",
      "          9 ⎛D⋅t₀⎞      2\n",
      "0.015625⋅Σ ⋅⎜────⎟    ⋅ℯ \n",
      "            ⎜  2 ⎟       \n",
      "            ⎝ Σ  ⎠       \n",
      "─────────────────────────\n",
      "            D            \n"
     ]
    }
   ],
   "source": [
    "# Now getting the probability density\n",
    "rho_of_t = Sigma*dt_dZ2_at_inflection/d2Z2_dr2_at_inflection\n",
    "pprint(rho_of_t)"
   ]
  },
  {
   "cell_type": "code",
   "execution_count": 12,
   "metadata": {},
   "outputs": [],
   "source": [
    "# Creating Z^2 as an independent variable\n",
    "Z2 = Symbol('Z2')"
   ]
  },
  {
   "cell_type": "code",
   "execution_count": 13,
   "metadata": {},
   "outputs": [],
   "source": [
    "# Getting the probability density as a function of Z^2\n",
    "# by substituting Sigma = ((((2*D/exp(1))*t0/Z2)**.5))**.5\n",
    "rho_of_Z2 = rho_of_t.subs(Sigma,((((2*D/exp(1))*t0/Z2)**.5))**.5)\n",
    "rho_of_Z2 = simplify(rho_of_Z2)"
   ]
  },
  {
   "cell_type": "code",
   "execution_count": 14,
   "metadata": {},
   "outputs": [
    {
     "name": "stdout",
     "output_type": "stream",
     "text": [
      "Z2(max) =  0.2627710294081731\n",
      "log(rho) =  log(0.00576382047900976*(D*t0/Z2)**2.25*(D*t0*(D*t0/Z2)**(-0.5))**(-2.0)*exp(2)/D)\n",
      "d log(rho)/d Z2 =  -3.25/Z2\n",
      "f0 = \n",
      "   ⎛                              -2.0⎞                   \n",
      "   ⎜       2.25 ⎛            -0.5⎞    ⎟                   \n",
      "   ⎜⎛ D⋅t₀⎞     ⎜     ⎛ D⋅t₀⎞    ⎟    ⎟                   \n",
      "   ⎜⎜─────⎟    ⋅⎜D⋅t₀⋅⎜─────⎟    ⎟    ⎟                   \n",
      "   ⎜⎝Z2max⎠     ⎝     ⎝Z2max⎠    ⎠    ⎟                   \n",
      "log⎜──────────────────────────────────⎟ - 3.15615474653985\n",
      "   ⎝                D                 ⎠                   \n"
     ]
    }
   ],
   "source": [
    "# Here, taking the affine approximation to log(rho)\n",
    "D_num = 1\n",
    "t0_num = .7\n",
    "\n",
    "Z2max_num = 1/(2*D_num*t0_num*np.exp(1)); print ('Z2(max) = ', Z2max_num)\n",
    "logrho_of_Z2 = log(rho_of_Z2); print('log(rho) = ',logrho_of_Z2)\n",
    "dlogrho_of_Z2_dZ2 = diff(logrho_of_Z2,Z2); print ('d log(rho)/d Z2 = ', dlogrho_of_Z2_dZ2)\n",
    "\n",
    "f0 = logrho_of_Z2.subs(Z2,Z2max); \n",
    "print('f0 = ')\n",
    "pprint(simplify(f0))"
   ]
  },
  {
   "cell_type": "code",
   "execution_count": 15,
   "metadata": {},
   "outputs": [
    {
     "name": "stdout",
     "output_type": "stream",
     "text": [
      "f1 =  -3.25/Z2max\n",
      "f1(t0) =  -6.5*E*D*t0\n",
      "sigma =  0.237900897651309*(1/(D*t0))**0.5\n",
      "Here's the big result\n",
      "sigma = \n",
      "                        0.5\n",
      "                  ⎛ 1  ⎞   \n",
      "0.237900897651309⋅⎜────⎟   \n",
      "                  ⎝D⋅t₀⎠   \n",
      "f0 =  log(0.443694073572563*(D*t0)**2.25*(D*t0*(D*t0)**(-0.5))**(-2.0)*exp(2)/D)\n",
      "f1 =  -12.3681823194887\n",
      "Inflection sigma =  0.284345959059179\n",
      "Inflection sigma =  0.284345959059178\n"
     ]
    }
   ],
   "source": [
    "f1 = dlogrho_of_Z2_dZ2.subs(Z2,Z2max); print('f1 = ',simplify(f1))\n",
    "f1_of_t0 = f1.subs(Z2max,1/(2*D*t0*exp(1)))\n",
    "print('f1(t0) = ',f1_of_t0)\n",
    "sigma = (-1/f1_of_t0)**.5\n",
    "print('sigma = ',sigma)\n",
    "print('Here\\'s the big result')\n",
    "print('sigma = ')\n",
    "pprint(sigma)\n",
    "\n",
    "f0 = f0.subs(Z2max,Z2max_num); print('f0 = ', f0)\n",
    "f1 = f1.subs(Z2max,Z2max_num); print('f1 = ', f1)\n",
    "\n",
    "sigma_num = (-1/f1)**.5; print ('Inflection sigma = ', sigma_num)\n",
    "sigma_num = 1/(6.5*D_num*t0_num*exp(1))**.5;  print ('Inflection sigma = ', sigma_num)"
   ]
  },
  {
   "cell_type": "markdown",
   "metadata": {},
   "source": [
    "In the end, OUR sigma equals $(6.5Dt_0e)^{-1/2}$. Another way to think of this is to recognize that since THEIR starting sigma (gaussian width of the initial bump) is $\\Sigma = (2Dt_0)^{1/2}$, we must have $\\sigma = {1 \\over (3.25e)^{1/2}\\Sigma}$. Hence, the wider the initial bump, the less the roughness. And this is independent of the so-called diffusion coefficient, which makes sense because it's assumed that the bump will eventually spread out. "
   ]
  },
  {
   "cell_type": "code",
   "execution_count": null,
   "metadata": {},
   "outputs": [],
   "source": []
  }
 ],
 "metadata": {
  "kernelspec": {
   "display_name": "Python 3",
   "language": "python",
   "name": "python3"
  },
  "language_info": {
   "codemirror_mode": {
    "name": "ipython",
    "version": 3
   },
   "file_extension": ".py",
   "mimetype": "text/x-python",
   "name": "python",
   "nbconvert_exporter": "python",
   "pygments_lexer": "ipython3",
   "version": "3.6.5"
  }
 },
 "nbformat": 4,
 "nbformat_minor": 2
}
