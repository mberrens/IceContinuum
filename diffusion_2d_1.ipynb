{
 "cells": [
  {
   "cell_type": "code",
   "execution_count": 1,
   "metadata": {},
   "outputs": [],
   "source": [
    "from sympy import *"
   ]
  },
  {
   "cell_type": "code",
   "execution_count": 2,
   "metadata": {},
   "outputs": [],
   "source": [
    "t = Symbol('t')\n",
    "t0 = Symbol('t0')\n",
    "x = Symbol('r')\n",
    "theta = Symbol('theta')\n",
    "D = Symbol('D')\n",
    "r = Symbol('r')\n",
    "Sigma = Symbol('Sigma')"
   ]
  },
  {
   "cell_type": "code",
   "execution_count": 3,
   "metadata": {},
   "outputs": [
    {
     "name": "stdout",
     "output_type": "stream",
     "text": [
      "exp(-r**2/(2*Sigma**2))/(2*pi*Sigma**2)\n"
     ]
    }
   ],
   "source": [
    "h = (1/(Sigma**2*2*pi))*exp(-r**2/(2*Sigma**2)); print(h)"
   ]
  },
  {
   "cell_type": "code",
   "execution_count": 4,
   "metadata": {},
   "outputs": [
    {
     "name": "stdout",
     "output_type": "stream",
     "text": [
      "-r*exp(-r**2/(2*Sigma**2))/(2*pi*Sigma**4)\n"
     ]
    }
   ],
   "source": [
    "dh_dr = diff(h,r); print(dh_dr)"
   ]
  },
  {
   "cell_type": "code",
   "execution_count": 5,
   "metadata": {},
   "outputs": [
    {
     "name": "stdout",
     "output_type": "stream",
     "text": [
      "r**2*exp(-r**2/Sigma**2)/(4*pi**2*Sigma**8)\n"
     ]
    }
   ],
   "source": [
    "Z2 = dh_dr**2; print(Z2)"
   ]
  },
  {
   "cell_type": "code",
   "execution_count": 6,
   "metadata": {},
   "outputs": [
    {
     "name": "stdout",
     "output_type": "stream",
     "text": [
      "(1/2 - 5*r**2/(2*Sigma**2) + r**4/Sigma**4)*exp(-r**2/Sigma**2)/(pi**2*Sigma**8)\n"
     ]
    }
   ],
   "source": [
    "d2Z2_dr2 = diff(Z2,r,2); print(d2Z2_dr2)"
   ]
  },
  {
   "cell_type": "code",
   "execution_count": 7,
   "metadata": {},
   "outputs": [
    {
     "name": "stdout",
     "output_type": "stream",
     "text": [
      "-2*r**2*exp(-r**2/Sigma**2)/(pi**2*Sigma**9) + r**4*exp(-r**2/Sigma**2)/(2*pi**2*Sigma**11)\n"
     ]
    }
   ],
   "source": [
    "dZ2_dSigma = diff(Z2,Sigma); print(dZ2_dSigma)"
   ]
  },
  {
   "cell_type": "code",
   "execution_count": 12,
   "metadata": {},
   "outputs": [
    {
     "name": "stdout",
     "output_type": "stream",
     "text": [
      "0.707106781186548*(D*t)**0.5/t\n"
     ]
    }
   ],
   "source": [
    "Sigma_of_t = (2*D*t)**.5\n",
    "dSigma_dt = diff(Sigma_of_t,t); print(dSigma_dt)"
   ]
  },
  {
   "cell_type": "code",
   "execution_count": 13,
   "metadata": {},
   "outputs": [
    {
     "name": "stdout",
     "output_type": "stream",
     "text": [
      "0.707106781186548*(D*t)**0.5*(-2*r**2*exp(-r**2/Sigma**2)/(pi**2*Sigma**9) + r**4*exp(-r**2/Sigma**2)/(2*pi**2*Sigma**11))/t\n"
     ]
    }
   ],
   "source": [
    "dZ2_dt = dSigma_dt*dZ2_dSigma; print(dZ2_dt)"
   ]
  },
  {
   "cell_type": "code",
   "execution_count": 14,
   "metadata": {},
   "outputs": [
    {
     "name": "stdout",
     "output_type": "stream",
     "text": [
      "1.0*D*(-2*r**2*exp(-r**2/Sigma**2)/(pi**2*Sigma**9) + r**4*exp(-r**2/Sigma**2)/(2*pi**2*Sigma**11))*(Sigma**2)**0.5/Sigma**2\n"
     ]
    }
   ],
   "source": [
    "dZ2_dt = dZ2_dt.subs(t,Sigma**2/(2*D)); print(dZ2_dt)"
   ]
  },
  {
   "cell_type": "code",
   "execution_count": 15,
   "metadata": {},
   "outputs": [
    {
     "name": "stdout",
     "output_type": "stream",
     "text": [
      "1.0*pi**2*Sigma**10*r*(Sigma**2)**(-0.5)*exp(r**2/Sigma**2)/(D*(-2*r**2*exp(-r**2/Sigma**2)/(pi**2*Sigma**9) + r**4*exp(-r**2/Sigma**2)/(2*pi**2*Sigma**11))*(1/2 - 5*r**2/(2*Sigma**2) + r**4/Sigma**4))\n"
     ]
    }
   ],
   "source": [
    "rho = r/(d2Z2_dr2*dZ2_dt); print(rho)"
   ]
  },
  {
   "cell_type": "code",
   "execution_count": 17,
   "metadata": {},
   "outputs": [
    {
     "name": "stdout",
     "output_type": "stream",
     "text": [
      "0.666666666666667*pi**4*Sigma**18*(Sigma**2)**(-0.5)*exp(2)/D\n"
     ]
    }
   ],
   "source": [
    "rho_inflection = rho.subs(r,Sigma); print(simplify(rho_inflection))"
   ]
  },
  {
   "cell_type": "code",
   "execution_count": null,
   "metadata": {},
   "outputs": [],
   "source": []
  }
 ],
 "metadata": {
  "kernelspec": {
   "display_name": "Python 3",
   "language": "python",
   "name": "python3"
  },
  "language_info": {
   "codemirror_mode": {
    "name": "ipython",
    "version": 3
   },
   "file_extension": ".py",
   "mimetype": "text/x-python",
   "name": "python",
   "nbconvert_exporter": "python",
   "pygments_lexer": "ipython3",
   "version": "3.6.4"
  }
 },
 "nbformat": 4,
 "nbformat_minor": 2
}
