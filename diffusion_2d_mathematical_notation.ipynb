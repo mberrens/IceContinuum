{
 "cells": [
  {
   "cell_type": "code",
   "execution_count": 1,
   "metadata": {
    "collapsed": true
   },
   "outputs": [],
   "source": [
    "from sympy import *\n",
    "import numpy as np"
   ]
  },
  {
   "cell_type": "code",
   "execution_count": 2,
   "metadata": {
    "collapsed": true
   },
   "outputs": [],
   "source": [
    "t = Symbol('t')\n",
    "t0 = Symbol('t0')\n",
    "r = Symbol('r')\n",
    "theta = Symbol('theta')\n",
    "D = Symbol('D')\n",
    "Sigma = Symbol('Sigma')\n",
    "Z2max = Symbol('Z2max')"
   ]
  },
  {
   "cell_type": "code",
   "execution_count": 3,
   "metadata": {},
   "outputs": [
    {
     "name": "stdout",
     "output_type": "stream",
     "text": [
      "-t0*exp(-r**2/(4*D*t))/t**2 + r**2*t0*exp(-r**2/(4*D*t))/(4*D*t**3)\n",
      "t0*(-2 + r**2/(D*t))*exp(-r**2/(4*D*t))/(4*t**2) - t0*exp(-r**2/(4*D*t))/(2*t**2)\n",
      "difference = 0\n"
     ]
    }
   ],
   "source": [
    "# Here's a height function\n",
    "h = (t0/t)*exp(-r**2/(4*D*t))\n",
    "\n",
    "# Testing out this height function\n",
    "LHS = diff(h,t); print(LHS)\n",
    "RHS = D*diff(h,r,2) + D/r*diff(h,r,1); print(RHS)\n",
    "LHSmRHS = simplify(LHS-RHS)\n",
    "print ('difference =', LHSmRHS)"
   ]
  },
  {
   "cell_type": "markdown",
   "metadata": {},
   "source": [
    "### In mathematical notation\n",
    "$h(r,t)=({t_0 \\over t})exp(-{r^2 \\over 4Dt})$\n",
    "\n",
    "Regarding normalization, we need to evaluate \n",
    "\n",
    "\n",
    "$\\int_{0}^\\infty \\int_{0}^{2 \\pi} {h(r,t)rdrd\\theta}=2\\pi ({t_0 \\over t}) \\int_{0}^\\infty {exp(-{r^2 \\over 4Dt})rdr}=4\\pi D t_0 $  \n",
    "\n",
    "Then if we wanted a normalized function, we could use \n",
    "\n",
    "$h^\\prime (r,t) = ({1 \\over 4\\pi Dt_0}) h(r,t)  $"
   ]
  },
  {
   "cell_type": "code",
   "execution_count": 4,
   "metadata": {},
   "outputs": [
    {
     "name": "stdout",
     "output_type": "stream",
     "text": [
      "-r*t0*exp(-r**2/(4*D*t))/(2*D*t**2)\n"
     ]
    }
   ],
   "source": [
    "# Gradient of the height function\n",
    "dh_dr = diff(h,r); print(dh_dr)"
   ]
  },
  {
   "cell_type": "code",
   "execution_count": 5,
   "metadata": {},
   "outputs": [
    {
     "name": "stdout",
     "output_type": "stream",
     "text": [
      "           2 \n",
      "         -r  \n",
      "        ─────\n",
      " 2   2  2⋅D⋅t\n",
      "r ⋅t₀ ⋅ℯ     \n",
      "─────────────\n",
      "      2  4   \n",
      "   4⋅D ⋅t    \n"
     ]
    }
   ],
   "source": [
    "# Square of the gradient is Z^2\n",
    "Z2 = dh_dr**2; pprint(Z2)"
   ]
  },
  {
   "cell_type": "code",
   "execution_count": 6,
   "metadata": {},
   "outputs": [
    {
     "name": "stdout",
     "output_type": "stream",
     "text": [
      "t0**2*(2 - 5*r**2/(D*t) + r**4/(D**2*t**2))*exp(-r**2/(2*D*t))/(4*D**2*t**4)\n"
     ]
    }
   ],
   "source": [
    "# Curvature of Z^2 \n",
    "d2Z2_dr2 = diff(Z2,r,2); print(d2Z2_dr2)"
   ]
  },
  {
   "cell_type": "code",
   "execution_count": 7,
   "metadata": {},
   "outputs": [
    {
     "name": "stdout",
     "output_type": "stream",
     "text": [
      "             2               2 \n",
      "           -r              -r  \n",
      "          ─────           ─────\n",
      "   2   2  2⋅D⋅t    4   2  2⋅D⋅t\n",
      "  r ⋅t₀ ⋅ℯ        r ⋅t₀ ⋅ℯ     \n",
      "- ───────────── + ─────────────\n",
      "       2  5             3  6   \n",
      "      D ⋅t           8⋅D ⋅t    \n"
     ]
    }
   ],
   "source": [
    "# Finding the derivative of Z2 with respect to t\n",
    "dZ2_dt = diff(Z2,t); pprint(dZ2_dt)"
   ]
  },
  {
   "cell_type": "code",
   "execution_count": 8,
   "metadata": {},
   "outputs": [
    {
     "name": "stdout",
     "output_type": "stream",
     "text": [
      "     3   2  -1 \n",
      "-24⋅D ⋅t₀ ⋅ℯ   \n",
      "───────────────\n",
      "        8      \n",
      "       Σ       \n"
     ]
    }
   ],
   "source": [
    "# Evaluate dZ^2/dt at the inflection point\n",
    "dZ2_dt = dZ2_dt.subs(t,Sigma**2/(2*D))\n",
    "dZ2_dt_at_inflection = dZ2_dt.subs(r,Sigma)\n",
    "pprint(dZ2_dt_at_inflection)"
   ]
  },
  {
   "cell_type": "code",
   "execution_count": 9,
   "metadata": {},
   "outputs": [
    {
     "name": "stdout",
     "output_type": "stream",
     "text": [
      "      8  \n",
      "  -ℯ⋅Σ   \n",
      "─────────\n",
      "    3   2\n",
      "24⋅D ⋅t₀ \n"
     ]
    }
   ],
   "source": [
    "# Get the inverse of dZ^2/dt\n",
    "dt_dZ2_at_inflection = 1/dZ2_dt_at_inflection\n",
    "pprint(dt_dZ2_at_inflection)"
   ]
  },
  {
   "cell_type": "code",
   "execution_count": 10,
   "metadata": {},
   "outputs": [
    {
     "name": "stdout",
     "output_type": "stream",
     "text": [
      "     2   2  -1 \n",
      "-16⋅D ⋅t₀ ⋅ℯ   \n",
      "───────────────\n",
      "        8      \n",
      "       Σ       \n"
     ]
    }
   ],
   "source": [
    "# Getting curvature at inflection\n",
    "d2Z2_dr2_at_inflection = d2Z2_dr2.subs(r,Sigma)\n",
    "d2Z2_dr2_at_inflection = d2Z2_dr2_at_inflection.subs(t,Sigma**2/(2*D))\n",
    "pprint(d2Z2_dr2_at_inflection)"
   ]
  },
  {
   "cell_type": "code",
   "execution_count": 11,
   "metadata": {},
   "outputs": [
    {
     "name": "stdout",
     "output_type": "stream",
     "text": [
      "   17  2  \n",
      "  Σ  ⋅ℯ   \n",
      "──────────\n",
      "     5   4\n",
      "384⋅D ⋅t₀ \n"
     ]
    }
   ],
   "source": [
    "# Now getting the probability density\n",
    "rho_of_t = Sigma*dt_dZ2_at_inflection/d2Z2_dr2_at_inflection\n",
    "pprint(rho_of_t)"
   ]
  },
  {
   "cell_type": "code",
   "execution_count": 12,
   "metadata": {
    "collapsed": true
   },
   "outputs": [],
   "source": [
    "# Creating Z^2 as an independent variable\n",
    "Z2 = Symbol('Z2')"
   ]
  },
  {
   "cell_type": "code",
   "execution_count": 13,
   "metadata": {},
   "outputs": [
    {
     "name": "stdout",
     "output_type": "stream",
     "text": [
      "                           4.25   \n",
      "                     ⎛D⋅t₀⎞      2\n",
      "0.000706797018943542⋅⎜────⎟    ⋅ℯ \n",
      "                     ⎝ Z₂ ⎠       \n",
      "──────────────────────────────────\n",
      "               5   4              \n",
      "              D ⋅t₀               \n"
     ]
    }
   ],
   "source": [
    "# Getting the probability density as a function of Z^2\n",
    "# by substituting Sigma = ((((2*D/exp(1))*t0/Z2)**.5))**.5\n",
    "rho_of_Z2 = rho_of_t.subs(Sigma,((((2*D/exp(1))*t0/Z2)**.5))**.5)\n",
    "rho_of_Z2 = simplify(rho_of_Z2)\n",
    "pprint(rho_of_Z2)"
   ]
  },
  {
   "cell_type": "code",
   "execution_count": 14,
   "metadata": {},
   "outputs": [
    {
     "name": "stdout",
     "output_type": "stream",
     "text": [
      "   ⎛                           4.25   ⎞\n",
      "   ⎜                     ⎛D⋅t₀⎞      2⎟\n",
      "   ⎜0.000706797018943542⋅⎜────⎟    ⋅ℯ ⎟\n",
      "   ⎜                     ⎝ Z₂ ⎠       ⎟\n",
      "log⎜──────────────────────────────────⎟\n",
      "   ⎜               5   4              ⎟\n",
      "   ⎝              D ⋅t₀               ⎠\n",
      "-4.25 \n",
      "──────\n",
      "  Z₂  \n"
     ]
    }
   ],
   "source": [
    "# Here, setting up the affine approximation to log(rho)\n",
    "logrho_of_Z2 = log(rho_of_Z2); #print('log(rho) = ',logrho_of_Z2)\n",
    "pprint(logrho_of_Z2)\n",
    "dlogrho_of_Z2_dZ2 = diff(logrho_of_Z2,Z2); #print ('d log(rho)/d Z2 = ', dlogrho_of_Z2_dZ2)\n",
    "pprint(dlogrho_of_Z2_dZ2)"
   ]
  },
  {
   "cell_type": "code",
   "execution_count": 15,
   "metadata": {},
   "outputs": [
    {
     "name": "stdout",
     "output_type": "stream",
     "text": [
      "                            4.25   \n",
      "                     ⎛ D⋅t₀⎞      2\n",
      "0.000706797018943542⋅⎜─────⎟    ⋅ℯ \n",
      "                     ⎝Z2max⎠       \n",
      "───────────────────────────────────\n",
      "                5   4              \n",
      "               D ⋅t₀               \n",
      "\n",
      "\n",
      "-4.25 \n",
      "──────\n",
      "Z2max \n",
      "\n",
      "\n",
      "  -1  \n",
      " ℯ    \n",
      "──────\n",
      "2⋅D⋅t₀\n",
      "\n",
      "\n",
      "                          4.25   \n",
      "                  ⎛ 2   2⎞      2\n",
      "0.942809041582064⋅⎝D ⋅t₀ ⎠    ⋅ℯ \n",
      "─────────────────────────────────\n",
      "               5   4             \n",
      "              D ⋅t₀              \n",
      "\n",
      "\n",
      "-8.5⋅ℯ⋅D⋅t₀\n",
      "\n",
      "\n"
     ]
    }
   ],
   "source": [
    "# Setting up the expansion about Z2max\n",
    "Z2max = Symbol('Z2max')\n",
    "f0 = rho_of_Z2.subs(Z2,Z2max); pprint(f0); print('\\n')\n",
    "f1 = dlogrho_of_Z2_dZ2.subs(Z2,Z2max); pprint(f1); print('\\n')\n",
    "\n",
    "Z2max = 1/(2*D*t0*exp(1))\n",
    "pprint (Z2max); print('\\n')\n",
    "f0 = rho_of_Z2.subs(Z2,Z2max); pprint(f0); print('\\n')\n",
    "f1 = dlogrho_of_Z2_dZ2.subs(Z2,Z2max); pprint(f1); print('\\n')"
   ]
  },
  {
   "cell_type": "code",
   "execution_count": 16,
   "metadata": {},
   "outputs": [
    {
     "name": "stdout",
     "output_type": "stream",
     "text": [
      "         2\n",
      "-4.25⋅ℯ⋅Σ \n"
     ]
    }
   ],
   "source": [
    "# Expressing the slope in terms of the initial gaussian width\n",
    "f1_of_Sigma = f1/(2*D*t0)*Sigma**2; \n",
    "pprint(f1_of_Sigma)"
   ]
  },
  {
   "cell_type": "code",
   "execution_count": 17,
   "metadata": {},
   "outputs": [
    {
     "name": "stdout",
     "output_type": "stream",
     "text": [
      "                      0.5\n",
      "                  ⎛1 ⎞   \n",
      "0.294210585314206⋅⎜──⎟   \n",
      "                  ⎜ 2⎟   \n",
      "                  ⎝Σ ⎠   \n"
     ]
    }
   ],
   "source": [
    "# Here's the roughness parameter, sigma, calculated from the affine approximation\n",
    "sigma = (-1/f1_of_Sigma)**.5\n",
    "pprint(sigma)"
   ]
  },
  {
   "cell_type": "markdown",
   "metadata": {},
   "source": [
    "### In mathematical notation\n",
    "$f_1 = -4.25 \\ e \\ \\Sigma^2$  \n",
    "\n",
    "$\\sigma = ({1 \\over 4.25 e})^{1/2} {1 \\over \\Sigma}$\n",
    "\n",
    "As in the 1d case, the wider the initial bump, the less the roughness, independent of the so-called diffusion coefficient. The difference here is that $\\sigma$ is a little smaller than in the 1d case, for the same $\\Sigma$. "
   ]
  },
  {
   "cell_type": "code",
   "execution_count": 18,
   "metadata": {
    "collapsed": true
   },
   "outputs": [],
   "source": [
    "# # Here, taking the affine approximation to log(rho)\n",
    "# D_num = 1\n",
    "# t0_num = .7\n",
    "\n",
    "# Z2max_num = 1/(2*D_num*t0_num*np.exp(1)); print ('Z2(max) = ', Z2max_num)\n",
    "\n",
    "# logrho_of_Z2 = log(rho_of_Z2); print('log(rho) = ',logrho_of_Z2)\n",
    "# dlogrho_of_Z2_dZ2 = diff(logrho_of_Z2,Z2); print ('d log(rho)/d Z2 = ', dlogrho_of_Z2_dZ2)\n",
    "\n",
    "# f0 = logrho_of_Z2.subs(Z2,Z2max); \n",
    "# print('f0 = ')\n",
    "# pprint(simplify(f0))"
   ]
  },
  {
   "cell_type": "code",
   "execution_count": 19,
   "metadata": {
    "collapsed": true
   },
   "outputs": [],
   "source": [
    "# f1 = dlogrho_of_Z2_dZ2.subs(Z2,Z2max); print('f1 = ',simplify(f1))\n",
    "# f1_of_t0 = f1.subs(Z2max,1/(2*D*t0*exp(1)))\n",
    "# print('f1(t0) = ',f1_of_t0)\n",
    "# sigma = (-1/f1_of_t0)**.5\n",
    "# print('sigma = ',sigma)\n",
    "# print('Here\\'s the big result')\n",
    "# print('sigma = ')\n",
    "# pprint(sigma)\n",
    "\n",
    "# f0 = f0.subs(Z2max,Z2max_num); print('f0 = ', f0)\n",
    "# f1 = f1.subs(Z2max,Z2max_num); print('f1 = ', f1)\n",
    "\n",
    "# sigma_num = (-1/f1)**.5; print ('Inflection sigma = ', sigma_num)\n",
    "# sigma_num = 1/(6.5*D_num*t0_num*exp(1))**.5;  print ('Inflection sigma = ', sigma_num)"
   ]
  }
 ],
 "metadata": {
  "kernelspec": {
   "display_name": "Python 3",
   "language": "python",
   "name": "python3"
  },
  "language_info": {
   "codemirror_mode": {
    "name": "ipython",
    "version": 3
   },
   "file_extension": ".py",
   "mimetype": "text/x-python",
   "name": "python",
   "nbconvert_exporter": "python",
   "pygments_lexer": "ipython3",
   "version": "3.6.3"
  }
 },
 "nbformat": 4,
 "nbformat_minor": 2
}
