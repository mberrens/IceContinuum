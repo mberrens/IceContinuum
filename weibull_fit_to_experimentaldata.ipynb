{
 "cells": [
  {
   "cell_type": "code",
   "execution_count": 6,
   "metadata": {
    "collapsed": true
   },
   "outputs": [],
   "source": [
    "import numpy as np\n",
    "import matplotlib.pyplot as plt\n",
    "from mpl_toolkits.mplot3d import axes3d\n",
    "import os\n",
    "from sys import platform\n",
    "import f90nml\n",
    "from importlib import reload\n",
    "import sys\n",
    "sys.path.append('../ice4')\n",
    "import retrievestuff as rs\n",
    "import weibull"
   ]
  },
  {
   "cell_type": "code",
   "execution_count": 2,
   "metadata": {
    "collapsed": true
   },
   "outputs": [],
   "source": [
    "%matplotlib notebook"
   ]
  },
  {
   "cell_type": "code",
   "execution_count": 3,
   "metadata": {
    "collapsed": true
   },
   "outputs": [],
   "source": [
    "# Have to do this in case of different operating systems\n",
    "if platform == \"linux\" or platform == \"darwin\":\n",
    "    slash = '/'\n",
    "else: # This is assumed to be Windows\n",
    "    slash = '\\\\'\n",
    "#print(slash)"
   ]
  },
  {
   "cell_type": "code",
   "execution_count": 8,
   "metadata": {},
   "outputs": [
    {
     "name": "stdout",
     "output_type": "stream",
     "text": [
      "Nx = 41\n",
      "Ny = 43\n",
      "Npts =  1763\n",
      "Lx = 22.678572\n",
      "Ly = 23.245536299999998\n"
     ]
    }
   ],
   "source": [
    "foldername = \"Case2.1\"; filename = \"surface_filtered.txt\"\n",
    "\n",
    "# Load a height file (for synthetic data)\n",
    "#filename = \"surface.txt\"\n",
    "\n",
    "sollast = np.loadtxt(foldername+slash+filename)\n",
    "Ny, Nx = np.shape(sollast); #print(sollast.shape)\n",
    "Ntot = np.size(sollast)\n",
    "print(\"Nx =\", Nx)\n",
    "print(\"Ny =\", Ny)\n",
    "print('Npts = ', Ntot)\n",
    "\n",
    "# Get other parameters\n",
    "params = f90nml.read(foldername+slash+'parameters.nml')\n",
    "Lx = params['parameters']['Lx']; print(\"Lx =\", Lx)\n",
    "Ly = params['parameters']['Ly']; print(\"Ly =\", Ly)"
   ]
  },
  {
   "cell_type": "code",
   "execution_count": 10,
   "metadata": {
    "collapsed": true
   },
   "outputs": [],
   "source": [
    "x = np.linspace(0,Lx,Nx); #print(x[1]-x[0])\n",
    "y = np.linspace(0,Ly,Ny); \n",
    "xgrid,ygrid = np.meshgrid(x,y); #print(xgrid.shape)\n",
    "dx = x[1]-x[0]\n",
    "dy = y[1]-y[0]"
   ]
  },
  {
   "cell_type": "code",
   "execution_count": 15,
   "metadata": {},
   "outputs": [
    {
     "name": "stdout",
     "output_type": "stream",
     "text": [
      "Sturges rule says nbins =  11\n",
      "Using nbins =  11\n"
     ]
    }
   ],
   "source": [
    "nbins_max = 14\n",
    "nbins_sturges = int(1+3.3*np.log10(Ntot)); print('Sturges rule says nbins = ', nbins_sturges)\n",
    "nbins = np.min([nbins_max,nbins_sturges]); print('Using nbins = ', nbins)\n",
    "Z2max = .06\n",
    "Z2bins = np.linspace(0,Z2max,nbins-1)\n",
    "#counts, bins, meanZ2, error = rs.getrhoofz2(sollast,dx,dy,Z2bins=Z2bins, levels=3)\n",
    "counts, bins, meanZ2= rs.getrhoofz2(sollast,dx,dy,Z2bins=Z2bins)"
   ]
  },
  {
   "cell_type": "code",
   "execution_count": 19,
   "metadata": {},
   "outputs": [
    {
     "name": "stderr",
     "output_type": "stream",
     "text": [
      "C:\\Users\\Margaret Berrens\\New folder\\New folder\\New folder\\lib\\site-packages\\matplotlib\\figure.py:1999: UserWarning: This figure includes Axes that are not compatible with tight_layout, so results might be incorrect.\n",
      "  warnings.warn(\"This figure includes Axes that are not compatible \"\n"
     ]
    },
    {
     "data": {
      "image/png": "[encoded data removed]",
      "text/plain": [
       "<matplotlib.figure.Figure at 0x23aebb01fd0>"
      ]
     },
     "metadata": {},
     "output_type": "display_data"
    },
    {
     "name": "stdout",
     "output_type": "stream",
     "text": [
      "fit method          linear regression\n",
      "p_value                   1.58627e-07\n",
      "r_squared                    0.983796\n",
      "confidence                        0.9\n",
      "beta lower limit             0.963988\n",
      "beta nominal                  1.54842\n",
      "beta upper limit              2.48717\n",
      "eta lower limit             0.0261139\n",
      "eta nominal                 0.0386567\n",
      "eta upper limit             0.0572238\n",
      "mean life                   0.0347713\n",
      "median life                 0.0305089\n",
      "b10 life                   0.00903753\n",
      "dtype: object\n"
     ]
    }
   ],
   "source": [
    "#does weibull analysis on experimental data\n",
    "analysis = weibull.Analysis(bins)\n",
    "analysis.fit(method='lr')\n",
    "plt.figure()\n",
    "analysis.probplot()\n",
    "print(analysis.stats)"
   ]
  },
  {
   "cell_type": "code",
   "execution_count": null,
   "metadata": {
    "collapsed": true
   },
   "outputs": [],
   "source": []
  }
 ],
 "metadata": {
  "kernelspec": {
   "display_name": "Python 3",
   "language": "python",
   "name": "python3"
  },
  "language_info": {
   "codemirror_mode": {
    "name": "ipython",
    "version": 3
   },
   "file_extension": ".py",
   "mimetype": "text/x-python",
   "name": "python",
   "nbconvert_exporter": "python",
   "pygments_lexer": "ipython3",
   "version": "3.6.8"
  }
 },
 "nbformat": 4,
 "nbformat_minor": 2
}
